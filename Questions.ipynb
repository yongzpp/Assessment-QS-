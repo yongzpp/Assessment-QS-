{
  "nbformat": 4,
  "nbformat_minor": 0,
  "metadata": {
    "colab": {
      "provenance": [],
      "collapsed_sections": []
    },
    "kernelspec": {
      "name": "python3",
      "display_name": "Python 3"
    },
    "language_info": {
      "name": "python"
    },
    "accelerator": "GPU"
  },
  "cells": [
    {
      "cell_type": "code",
      "execution_count": 1,
      "metadata": {
        "colab": {
          "base_uri": "https://localhost:8080/"
        },
        "id": "gI0bEsxg3BBd",
        "outputId": "c20ac395-ff17-4a69-e1e0-b7f237d3dc58"
      },
      "outputs": [
        {
          "output_type": "stream",
          "name": "stdout",
          "text": [
            "Mounted at /content/gdrive\n"
          ]
        }
      ],
      "source": [
        "from google.colab import drive\n",
        "drive.mount('/content/gdrive')"
      ]
    },
    {
      "cell_type": "code",
      "source": [
        "import os\n",
        "os.chdir('/content/gdrive/My Drive')"
      ],
      "metadata": {
        "id": "_HFNcJeb3BvK"
      },
      "execution_count": 2,
      "outputs": []
    },
    {
      "cell_type": "markdown",
      "source": [
        "### Task 1"
      ],
      "metadata": {
        "id": "ZruAIMmh1zA1"
      }
    },
    {
      "cell_type": "code",
      "source": [
        "# Import required packages\n",
        "import pandas as pd\n",
        "import numpy as np\n",
        "import matplotlib.pyplot as plt\n",
        "from statsmodels.tsa.arima.model import ARIMA\n",
        "from statsmodels.tsa.stattools import adfuller"
      ],
      "metadata": {
        "id": "eL3rzDp33Bxe"
      },
      "execution_count": 3,
      "outputs": []
    },
    {
      "cell_type": "code",
      "source": [
        "df = pd.read_csv(\"annual-motor-vehicle-inspection-passing-rate-of-motor-vehicles-on-first-inspection.csv\")\n",
        "df.head()"
      ],
      "metadata": {
        "colab": {
          "base_uri": "https://localhost:8080/",
          "height": 206
        },
        "id": "wIG-jgpQ3Bzy",
        "outputId": "39d5f7e2-1dfe-4de6-c39e-8dd759d7fede"
      },
      "execution_count": 4,
      "outputs": [
        {
          "output_type": "execute_result",
          "data": {
            "text/plain": [
              "   year  type age  number_reported  number_passed  passing_rate\n",
              "0  2006  Cars   1              455            432          94.9\n",
              "1  2006  Cars   2             1082           1026          94.8\n",
              "2  2006  Cars   3            73558          68432          93.0\n",
              "3  2006  Cars   4              627            560          89.3\n",
              "4  2006  Cars   5            17963          16716          93.1"
            ],
            "text/html": [
              "\n",
              "  <div id=\"df-67654655-e27a-472e-8c49-80e1fdfe7df0\">\n",
              "    <div class=\"colab-df-container\">\n",
              "      <div>\n",
              "<style scoped>\n",
              "    .dataframe tbody tr th:only-of-type {\n",
              "        vertical-align: middle;\n",
              "    }\n",
              "\n",
              "    .dataframe tbody tr th {\n",
              "        vertical-align: top;\n",
              "    }\n",
              "\n",
              "    .dataframe thead th {\n",
              "        text-align: right;\n",
              "    }\n",
              "</style>\n",
              "<table border=\"1\" class=\"dataframe\">\n",
              "  <thead>\n",
              "    <tr style=\"text-align: right;\">\n",
              "      <th></th>\n",
              "      <th>year</th>\n",
              "      <th>type</th>\n",
              "      <th>age</th>\n",
              "      <th>number_reported</th>\n",
              "      <th>number_passed</th>\n",
              "      <th>passing_rate</th>\n",
              "    </tr>\n",
              "  </thead>\n",
              "  <tbody>\n",
              "    <tr>\n",
              "      <th>0</th>\n",
              "      <td>2006</td>\n",
              "      <td>Cars</td>\n",
              "      <td>1</td>\n",
              "      <td>455</td>\n",
              "      <td>432</td>\n",
              "      <td>94.9</td>\n",
              "    </tr>\n",
              "    <tr>\n",
              "      <th>1</th>\n",
              "      <td>2006</td>\n",
              "      <td>Cars</td>\n",
              "      <td>2</td>\n",
              "      <td>1082</td>\n",
              "      <td>1026</td>\n",
              "      <td>94.8</td>\n",
              "    </tr>\n",
              "    <tr>\n",
              "      <th>2</th>\n",
              "      <td>2006</td>\n",
              "      <td>Cars</td>\n",
              "      <td>3</td>\n",
              "      <td>73558</td>\n",
              "      <td>68432</td>\n",
              "      <td>93.0</td>\n",
              "    </tr>\n",
              "    <tr>\n",
              "      <th>3</th>\n",
              "      <td>2006</td>\n",
              "      <td>Cars</td>\n",
              "      <td>4</td>\n",
              "      <td>627</td>\n",
              "      <td>560</td>\n",
              "      <td>89.3</td>\n",
              "    </tr>\n",
              "    <tr>\n",
              "      <th>4</th>\n",
              "      <td>2006</td>\n",
              "      <td>Cars</td>\n",
              "      <td>5</td>\n",
              "      <td>17963</td>\n",
              "      <td>16716</td>\n",
              "      <td>93.1</td>\n",
              "    </tr>\n",
              "  </tbody>\n",
              "</table>\n",
              "</div>\n",
              "      <button class=\"colab-df-convert\" onclick=\"convertToInteractive('df-67654655-e27a-472e-8c49-80e1fdfe7df0')\"\n",
              "              title=\"Convert this dataframe to an interactive table.\"\n",
              "              style=\"display:none;\">\n",
              "        \n",
              "  <svg xmlns=\"http://www.w3.org/2000/svg\" height=\"24px\"viewBox=\"0 0 24 24\"\n",
              "       width=\"24px\">\n",
              "    <path d=\"M0 0h24v24H0V0z\" fill=\"none\"/>\n",
              "    <path d=\"M18.56 5.44l.94 2.06.94-2.06 2.06-.94-2.06-.94-.94-2.06-.94 2.06-2.06.94zm-11 1L8.5 8.5l.94-2.06 2.06-.94-2.06-.94L8.5 2.5l-.94 2.06-2.06.94zm10 10l.94 2.06.94-2.06 2.06-.94-2.06-.94-.94-2.06-.94 2.06-2.06.94z\"/><path d=\"M17.41 7.96l-1.37-1.37c-.4-.4-.92-.59-1.43-.59-.52 0-1.04.2-1.43.59L10.3 9.45l-7.72 7.72c-.78.78-.78 2.05 0 2.83L4 21.41c.39.39.9.59 1.41.59.51 0 1.02-.2 1.41-.59l7.78-7.78 2.81-2.81c.8-.78.8-2.07 0-2.86zM5.41 20L4 18.59l7.72-7.72 1.47 1.35L5.41 20z\"/>\n",
              "  </svg>\n",
              "      </button>\n",
              "      \n",
              "  <style>\n",
              "    .colab-df-container {\n",
              "      display:flex;\n",
              "      flex-wrap:wrap;\n",
              "      gap: 12px;\n",
              "    }\n",
              "\n",
              "    .colab-df-convert {\n",
              "      background-color: #E8F0FE;\n",
              "      border: none;\n",
              "      border-radius: 50%;\n",
              "      cursor: pointer;\n",
              "      display: none;\n",
              "      fill: #1967D2;\n",
              "      height: 32px;\n",
              "      padding: 0 0 0 0;\n",
              "      width: 32px;\n",
              "    }\n",
              "\n",
              "    .colab-df-convert:hover {\n",
              "      background-color: #E2EBFA;\n",
              "      box-shadow: 0px 1px 2px rgba(60, 64, 67, 0.3), 0px 1px 3px 1px rgba(60, 64, 67, 0.15);\n",
              "      fill: #174EA6;\n",
              "    }\n",
              "\n",
              "    [theme=dark] .colab-df-convert {\n",
              "      background-color: #3B4455;\n",
              "      fill: #D2E3FC;\n",
              "    }\n",
              "\n",
              "    [theme=dark] .colab-df-convert:hover {\n",
              "      background-color: #434B5C;\n",
              "      box-shadow: 0px 1px 3px 1px rgba(0, 0, 0, 0.15);\n",
              "      filter: drop-shadow(0px 1px 2px rgba(0, 0, 0, 0.3));\n",
              "      fill: #FFFFFF;\n",
              "    }\n",
              "  </style>\n",
              "\n",
              "      <script>\n",
              "        const buttonEl =\n",
              "          document.querySelector('#df-67654655-e27a-472e-8c49-80e1fdfe7df0 button.colab-df-convert');\n",
              "        buttonEl.style.display =\n",
              "          google.colab.kernel.accessAllowed ? 'block' : 'none';\n",
              "\n",
              "        async function convertToInteractive(key) {\n",
              "          const element = document.querySelector('#df-67654655-e27a-472e-8c49-80e1fdfe7df0');\n",
              "          const dataTable =\n",
              "            await google.colab.kernel.invokeFunction('convertToInteractive',\n",
              "                                                     [key], {});\n",
              "          if (!dataTable) return;\n",
              "\n",
              "          const docLinkHtml = 'Like what you see? Visit the ' +\n",
              "            '<a target=\"_blank\" href=https://colab.research.google.com/notebooks/data_table.ipynb>data table notebook</a>'\n",
              "            + ' to learn more about interactive tables.';\n",
              "          element.innerHTML = '';\n",
              "          dataTable['output_type'] = 'display_data';\n",
              "          await google.colab.output.renderOutput(dataTable, element);\n",
              "          const docLink = document.createElement('div');\n",
              "          docLink.innerHTML = docLinkHtml;\n",
              "          element.appendChild(docLink);\n",
              "        }\n",
              "      </script>\n",
              "    </div>\n",
              "  </div>\n",
              "  "
            ]
          },
          "metadata": {},
          "execution_count": 4
        }
      ]
    },
    {
      "cell_type": "code",
      "source": [
        "# Check for null values\n",
        "df.isnull().sum()"
      ],
      "metadata": {
        "colab": {
          "base_uri": "https://localhost:8080/"
        },
        "id": "LO6B-gYR3B2Z",
        "outputId": "804476d2-b890-406a-a713-3e4cface7602"
      },
      "execution_count": 5,
      "outputs": [
        {
          "output_type": "execute_result",
          "data": {
            "text/plain": [
              "year               0\n",
              "type               0\n",
              "age                0\n",
              "number_reported    0\n",
              "number_passed      0\n",
              "passing_rate       0\n",
              "dtype: int64"
            ]
          },
          "metadata": {},
          "execution_count": 5
        }
      ]
    },
    {
      "cell_type": "code",
      "source": [
        "# Check unique values in each column\n",
        "df.apply(lambda x: x.unique(), axis=0)"
      ],
      "metadata": {
        "colab": {
          "base_uri": "https://localhost:8080/"
        },
        "id": "tcaFsoBF4FmS",
        "outputId": "92b7d9a9-fc6c-400f-ffb4-99bd5a71830b"
      },
      "execution_count": 6,
      "outputs": [
        {
          "output_type": "execute_result",
          "data": {
            "text/plain": [
              "year               [2006, 2007, 2008, 2009, 2010, 2011, 2012, 201...\n",
              "type               [Cars, Motorcycles, Scheduled Buses, Other Bus...\n",
              "age                             [1, 2, 3, 4, 5, 6, 7, 8, 9, 10, >10]\n",
              "number_reported    [455, 1082, 73558, 627, 17963, 231, 4751, 2010...\n",
              "number_passed      [432, 1026, 68432, 560, 16716, 209, 4377, 212,...\n",
              "passing_rate       [94.9, 94.8, 93.0, 89.3, 93.1, 90.5, 92.1, 91....\n",
              "dtype: object"
            ]
          },
          "metadata": {},
          "execution_count": 6
        }
      ]
    },
    {
      "cell_type": "code",
      "source": [
        "# Drop redundant columns\n",
        "df.drop(columns=['number_reported', \"number_passed\"], inplace=True)"
      ],
      "metadata": {
        "id": "4bnb--cI4tbO"
      },
      "execution_count": 7,
      "outputs": []
    },
    {
      "cell_type": "code",
      "source": [
        "# What's the average passing rate on first inspection each year, taking into account motorcycles of all age groups?\n",
        "motorcycles = df.loc[df[\"type\"] == \"Motorcycles\"]\n",
        "motorcycles = motorcycles.loc[~(motorcycles['passing_rate'] == 0)]\n",
        "passing_rate = motorcycles.groupby(\"year\")[\"passing_rate\"].mean()\n",
        "passing_rate"
      ],
      "metadata": {
        "colab": {
          "base_uri": "https://localhost:8080/"
        },
        "id": "FT8tbolQ5NVQ",
        "outputId": "db53c949-2740-406f-b3ed-fc7401a732d0"
      },
      "execution_count": 8,
      "outputs": [
        {
          "output_type": "execute_result",
          "data": {
            "text/plain": [
              "year\n",
              "2006    92.990909\n",
              "2007    93.686925\n",
              "2008    93.870527\n",
              "2009    93.873521\n",
              "2010    93.981256\n",
              "2011    94.045351\n",
              "2012    92.791833\n",
              "2013    89.050335\n",
              "2014    91.428142\n",
              "2015    95.105223\n",
              "2016    96.257331\n",
              "2017    96.365440\n",
              "Name: passing_rate, dtype: float64"
            ]
          },
          "metadata": {},
          "execution_count": 8
        }
      ]
    },
    {
      "cell_type": "code",
      "source": [
        "# Remove >10 as it is ambiguous how old and which group of vehicle it belongs to in previous years\n",
        "motorcycles = motorcycles.loc[~(motorcycles['age'] == \">10\")]\n",
        "# Converting age to integer\n",
        "motorcycles[\"age\"] = motorcycles[\"age\"].astype(\"int64\")"
      ],
      "metadata": {
        "id": "C2LzQFSB_P1D",
        "colab": {
          "base_uri": "https://localhost:8080/"
        },
        "outputId": "f2bc9115-29f4-45b6-c406-e943af6d3c4b"
      },
      "execution_count": 9,
      "outputs": [
        {
          "output_type": "stream",
          "name": "stderr",
          "text": [
            "/usr/local/lib/python3.7/dist-packages/ipykernel_launcher.py:4: SettingWithCopyWarning: \n",
            "A value is trying to be set on a copy of a slice from a DataFrame.\n",
            "Try using .loc[row_indexer,col_indexer] = value instead\n",
            "\n",
            "See the caveats in the documentation: https://pandas.pydata.org/pandas-docs/stable/user_guide/indexing.html#returning-a-view-versus-a-copy\n",
            "  after removing the cwd from sys.path.\n"
          ]
        }
      ]
    },
    {
      "cell_type": "code",
      "source": [
        "# Matches the vehicle at each group in 2017 with their previous years\n",
        "# i.e. For age 5 in 2017, we want to find age 4 in 2016, age 3 in 2015\n",
        "motorcycles[\"diff\"] = motorcycles[\"year\"].apply(lambda x: 2017-x)\n",
        "# Here we ensure all the data we need for that age group is bumped to that age\n",
        "# i.e. following previous example, age 4 in 2016 will be bumped to age 5 and age 3 in 2015 to age 5\n",
        "# This allows us to group the progress of the vehicle over time\n",
        "motorcycles[\"new_age\"] = motorcycles[\"age\"] + motorcycles[\"diff\"]\n",
        "motorcycles.head()"
      ],
      "metadata": {
        "colab": {
          "base_uri": "https://localhost:8080/",
          "height": 206
        },
        "id": "MpFn_3uJp9f-",
        "outputId": "f69f1b98-1c76-41ce-8c48-9cff896d72a6"
      },
      "execution_count": 10,
      "outputs": [
        {
          "output_type": "execute_result",
          "data": {
            "text/plain": [
              "    year         type  age  passing_rate  diff  new_age\n",
              "11  2006  Motorcycles    1          95.9    11       12\n",
              "12  2006  Motorcycles    2          93.8    11       13\n",
              "13  2006  Motorcycles    3          92.8    11       14\n",
              "14  2006  Motorcycles    4          93.6    11       15\n",
              "15  2006  Motorcycles    5          92.1    11       16"
            ],
            "text/html": [
              "\n",
              "  <div id=\"df-6291959b-ef02-4138-951c-ee773c06350f\">\n",
              "    <div class=\"colab-df-container\">\n",
              "      <div>\n",
              "<style scoped>\n",
              "    .dataframe tbody tr th:only-of-type {\n",
              "        vertical-align: middle;\n",
              "    }\n",
              "\n",
              "    .dataframe tbody tr th {\n",
              "        vertical-align: top;\n",
              "    }\n",
              "\n",
              "    .dataframe thead th {\n",
              "        text-align: right;\n",
              "    }\n",
              "</style>\n",
              "<table border=\"1\" class=\"dataframe\">\n",
              "  <thead>\n",
              "    <tr style=\"text-align: right;\">\n",
              "      <th></th>\n",
              "      <th>year</th>\n",
              "      <th>type</th>\n",
              "      <th>age</th>\n",
              "      <th>passing_rate</th>\n",
              "      <th>diff</th>\n",
              "      <th>new_age</th>\n",
              "    </tr>\n",
              "  </thead>\n",
              "  <tbody>\n",
              "    <tr>\n",
              "      <th>11</th>\n",
              "      <td>2006</td>\n",
              "      <td>Motorcycles</td>\n",
              "      <td>1</td>\n",
              "      <td>95.9</td>\n",
              "      <td>11</td>\n",
              "      <td>12</td>\n",
              "    </tr>\n",
              "    <tr>\n",
              "      <th>12</th>\n",
              "      <td>2006</td>\n",
              "      <td>Motorcycles</td>\n",
              "      <td>2</td>\n",
              "      <td>93.8</td>\n",
              "      <td>11</td>\n",
              "      <td>13</td>\n",
              "    </tr>\n",
              "    <tr>\n",
              "      <th>13</th>\n",
              "      <td>2006</td>\n",
              "      <td>Motorcycles</td>\n",
              "      <td>3</td>\n",
              "      <td>92.8</td>\n",
              "      <td>11</td>\n",
              "      <td>14</td>\n",
              "    </tr>\n",
              "    <tr>\n",
              "      <th>14</th>\n",
              "      <td>2006</td>\n",
              "      <td>Motorcycles</td>\n",
              "      <td>4</td>\n",
              "      <td>93.6</td>\n",
              "      <td>11</td>\n",
              "      <td>15</td>\n",
              "    </tr>\n",
              "    <tr>\n",
              "      <th>15</th>\n",
              "      <td>2006</td>\n",
              "      <td>Motorcycles</td>\n",
              "      <td>5</td>\n",
              "      <td>92.1</td>\n",
              "      <td>11</td>\n",
              "      <td>16</td>\n",
              "    </tr>\n",
              "  </tbody>\n",
              "</table>\n",
              "</div>\n",
              "      <button class=\"colab-df-convert\" onclick=\"convertToInteractive('df-6291959b-ef02-4138-951c-ee773c06350f')\"\n",
              "              title=\"Convert this dataframe to an interactive table.\"\n",
              "              style=\"display:none;\">\n",
              "        \n",
              "  <svg xmlns=\"http://www.w3.org/2000/svg\" height=\"24px\"viewBox=\"0 0 24 24\"\n",
              "       width=\"24px\">\n",
              "    <path d=\"M0 0h24v24H0V0z\" fill=\"none\"/>\n",
              "    <path d=\"M18.56 5.44l.94 2.06.94-2.06 2.06-.94-2.06-.94-.94-2.06-.94 2.06-2.06.94zm-11 1L8.5 8.5l.94-2.06 2.06-.94-2.06-.94L8.5 2.5l-.94 2.06-2.06.94zm10 10l.94 2.06.94-2.06 2.06-.94-2.06-.94-.94-2.06-.94 2.06-2.06.94z\"/><path d=\"M17.41 7.96l-1.37-1.37c-.4-.4-.92-.59-1.43-.59-.52 0-1.04.2-1.43.59L10.3 9.45l-7.72 7.72c-.78.78-.78 2.05 0 2.83L4 21.41c.39.39.9.59 1.41.59.51 0 1.02-.2 1.41-.59l7.78-7.78 2.81-2.81c.8-.78.8-2.07 0-2.86zM5.41 20L4 18.59l7.72-7.72 1.47 1.35L5.41 20z\"/>\n",
              "  </svg>\n",
              "      </button>\n",
              "      \n",
              "  <style>\n",
              "    .colab-df-container {\n",
              "      display:flex;\n",
              "      flex-wrap:wrap;\n",
              "      gap: 12px;\n",
              "    }\n",
              "\n",
              "    .colab-df-convert {\n",
              "      background-color: #E8F0FE;\n",
              "      border: none;\n",
              "      border-radius: 50%;\n",
              "      cursor: pointer;\n",
              "      display: none;\n",
              "      fill: #1967D2;\n",
              "      height: 32px;\n",
              "      padding: 0 0 0 0;\n",
              "      width: 32px;\n",
              "    }\n",
              "\n",
              "    .colab-df-convert:hover {\n",
              "      background-color: #E2EBFA;\n",
              "      box-shadow: 0px 1px 2px rgba(60, 64, 67, 0.3), 0px 1px 3px 1px rgba(60, 64, 67, 0.15);\n",
              "      fill: #174EA6;\n",
              "    }\n",
              "\n",
              "    [theme=dark] .colab-df-convert {\n",
              "      background-color: #3B4455;\n",
              "      fill: #D2E3FC;\n",
              "    }\n",
              "\n",
              "    [theme=dark] .colab-df-convert:hover {\n",
              "      background-color: #434B5C;\n",
              "      box-shadow: 0px 1px 3px 1px rgba(0, 0, 0, 0.15);\n",
              "      filter: drop-shadow(0px 1px 2px rgba(0, 0, 0, 0.3));\n",
              "      fill: #FFFFFF;\n",
              "    }\n",
              "  </style>\n",
              "\n",
              "      <script>\n",
              "        const buttonEl =\n",
              "          document.querySelector('#df-6291959b-ef02-4138-951c-ee773c06350f button.colab-df-convert');\n",
              "        buttonEl.style.display =\n",
              "          google.colab.kernel.accessAllowed ? 'block' : 'none';\n",
              "\n",
              "        async function convertToInteractive(key) {\n",
              "          const element = document.querySelector('#df-6291959b-ef02-4138-951c-ee773c06350f');\n",
              "          const dataTable =\n",
              "            await google.colab.kernel.invokeFunction('convertToInteractive',\n",
              "                                                     [key], {});\n",
              "          if (!dataTable) return;\n",
              "\n",
              "          const docLinkHtml = 'Like what you see? Visit the ' +\n",
              "            '<a target=\"_blank\" href=https://colab.research.google.com/notebooks/data_table.ipynb>data table notebook</a>'\n",
              "            + ' to learn more about interactive tables.';\n",
              "          element.innerHTML = '';\n",
              "          dataTable['output_type'] = 'display_data';\n",
              "          await google.colab.output.renderOutput(dataTable, element);\n",
              "          const docLink = document.createElement('div');\n",
              "          docLink.innerHTML = docLinkHtml;\n",
              "          element.appendChild(docLink);\n",
              "        }\n",
              "      </script>\n",
              "    </div>\n",
              "  </div>\n",
              "  "
            ]
          },
          "metadata": {},
          "execution_count": 10
        }
      ]
    },
    {
      "cell_type": "code",
      "source": [
        "# Since we are predicting next year, we filter the year 2017\n",
        "current = motorcycles.loc[motorcycles['year'] == 2017]\n",
        "# Left join is to ensure that all the vehicle belonging to the same group has the same current age in 2017\n",
        "# i.e. following previous example, age 5 in 2017, age 4 in 2016 and age 3 in 2015 will all be having new_age = 5\n",
        "result = pd.merge(current, motorcycles,on='new_age',how='left')\n",
        "result = result[[\"new_age\", \"passing_rate_y\"]]\n",
        "result.head()"
      ],
      "metadata": {
        "colab": {
          "base_uri": "https://localhost:8080/",
          "height": 206
        },
        "id": "wnYcwJqLZWYb",
        "outputId": "31a1b65b-0de8-4b96-a5df-119602ba7b06"
      },
      "execution_count": 11,
      "outputs": [
        {
          "output_type": "execute_result",
          "data": {
            "text/plain": [
              "   new_age  passing_rate_y\n",
              "0        2       97.257665\n",
              "1        3       97.142857\n",
              "2        3       96.960015\n",
              "3        4       95.317970\n",
              "4        4       97.060553"
            ],
            "text/html": [
              "\n",
              "  <div id=\"df-4ca3e32b-89a5-4898-937c-63e03cdd1152\">\n",
              "    <div class=\"colab-df-container\">\n",
              "      <div>\n",
              "<style scoped>\n",
              "    .dataframe tbody tr th:only-of-type {\n",
              "        vertical-align: middle;\n",
              "    }\n",
              "\n",
              "    .dataframe tbody tr th {\n",
              "        vertical-align: top;\n",
              "    }\n",
              "\n",
              "    .dataframe thead th {\n",
              "        text-align: right;\n",
              "    }\n",
              "</style>\n",
              "<table border=\"1\" class=\"dataframe\">\n",
              "  <thead>\n",
              "    <tr style=\"text-align: right;\">\n",
              "      <th></th>\n",
              "      <th>new_age</th>\n",
              "      <th>passing_rate_y</th>\n",
              "    </tr>\n",
              "  </thead>\n",
              "  <tbody>\n",
              "    <tr>\n",
              "      <th>0</th>\n",
              "      <td>2</td>\n",
              "      <td>97.257665</td>\n",
              "    </tr>\n",
              "    <tr>\n",
              "      <th>1</th>\n",
              "      <td>3</td>\n",
              "      <td>97.142857</td>\n",
              "    </tr>\n",
              "    <tr>\n",
              "      <th>2</th>\n",
              "      <td>3</td>\n",
              "      <td>96.960015</td>\n",
              "    </tr>\n",
              "    <tr>\n",
              "      <th>3</th>\n",
              "      <td>4</td>\n",
              "      <td>95.317970</td>\n",
              "    </tr>\n",
              "    <tr>\n",
              "      <th>4</th>\n",
              "      <td>4</td>\n",
              "      <td>97.060553</td>\n",
              "    </tr>\n",
              "  </tbody>\n",
              "</table>\n",
              "</div>\n",
              "      <button class=\"colab-df-convert\" onclick=\"convertToInteractive('df-4ca3e32b-89a5-4898-937c-63e03cdd1152')\"\n",
              "              title=\"Convert this dataframe to an interactive table.\"\n",
              "              style=\"display:none;\">\n",
              "        \n",
              "  <svg xmlns=\"http://www.w3.org/2000/svg\" height=\"24px\"viewBox=\"0 0 24 24\"\n",
              "       width=\"24px\">\n",
              "    <path d=\"M0 0h24v24H0V0z\" fill=\"none\"/>\n",
              "    <path d=\"M18.56 5.44l.94 2.06.94-2.06 2.06-.94-2.06-.94-.94-2.06-.94 2.06-2.06.94zm-11 1L8.5 8.5l.94-2.06 2.06-.94-2.06-.94L8.5 2.5l-.94 2.06-2.06.94zm10 10l.94 2.06.94-2.06 2.06-.94-2.06-.94-.94-2.06-.94 2.06-2.06.94z\"/><path d=\"M17.41 7.96l-1.37-1.37c-.4-.4-.92-.59-1.43-.59-.52 0-1.04.2-1.43.59L10.3 9.45l-7.72 7.72c-.78.78-.78 2.05 0 2.83L4 21.41c.39.39.9.59 1.41.59.51 0 1.02-.2 1.41-.59l7.78-7.78 2.81-2.81c.8-.78.8-2.07 0-2.86zM5.41 20L4 18.59l7.72-7.72 1.47 1.35L5.41 20z\"/>\n",
              "  </svg>\n",
              "      </button>\n",
              "      \n",
              "  <style>\n",
              "    .colab-df-container {\n",
              "      display:flex;\n",
              "      flex-wrap:wrap;\n",
              "      gap: 12px;\n",
              "    }\n",
              "\n",
              "    .colab-df-convert {\n",
              "      background-color: #E8F0FE;\n",
              "      border: none;\n",
              "      border-radius: 50%;\n",
              "      cursor: pointer;\n",
              "      display: none;\n",
              "      fill: #1967D2;\n",
              "      height: 32px;\n",
              "      padding: 0 0 0 0;\n",
              "      width: 32px;\n",
              "    }\n",
              "\n",
              "    .colab-df-convert:hover {\n",
              "      background-color: #E2EBFA;\n",
              "      box-shadow: 0px 1px 2px rgba(60, 64, 67, 0.3), 0px 1px 3px 1px rgba(60, 64, 67, 0.15);\n",
              "      fill: #174EA6;\n",
              "    }\n",
              "\n",
              "    [theme=dark] .colab-df-convert {\n",
              "      background-color: #3B4455;\n",
              "      fill: #D2E3FC;\n",
              "    }\n",
              "\n",
              "    [theme=dark] .colab-df-convert:hover {\n",
              "      background-color: #434B5C;\n",
              "      box-shadow: 0px 1px 3px 1px rgba(0, 0, 0, 0.15);\n",
              "      filter: drop-shadow(0px 1px 2px rgba(0, 0, 0, 0.3));\n",
              "      fill: #FFFFFF;\n",
              "    }\n",
              "  </style>\n",
              "\n",
              "      <script>\n",
              "        const buttonEl =\n",
              "          document.querySelector('#df-4ca3e32b-89a5-4898-937c-63e03cdd1152 button.colab-df-convert');\n",
              "        buttonEl.style.display =\n",
              "          google.colab.kernel.accessAllowed ? 'block' : 'none';\n",
              "\n",
              "        async function convertToInteractive(key) {\n",
              "          const element = document.querySelector('#df-4ca3e32b-89a5-4898-937c-63e03cdd1152');\n",
              "          const dataTable =\n",
              "            await google.colab.kernel.invokeFunction('convertToInteractive',\n",
              "                                                     [key], {});\n",
              "          if (!dataTable) return;\n",
              "\n",
              "          const docLinkHtml = 'Like what you see? Visit the ' +\n",
              "            '<a target=\"_blank\" href=https://colab.research.google.com/notebooks/data_table.ipynb>data table notebook</a>'\n",
              "            + ' to learn more about interactive tables.';\n",
              "          element.innerHTML = '';\n",
              "          dataTable['output_type'] = 'display_data';\n",
              "          await google.colab.output.renderOutput(dataTable, element);\n",
              "          const docLink = document.createElement('div');\n",
              "          docLink.innerHTML = docLinkHtml;\n",
              "          element.appendChild(docLink);\n",
              "        }\n",
              "      </script>\n",
              "    </div>\n",
              "  </div>\n",
              "  "
            ]
          },
          "metadata": {},
          "execution_count": 11
        }
      ]
    },
    {
      "cell_type": "code",
      "source": [
        "for i in result[\"new_age\"].unique():\n",
        "    df_i = list(result.loc[result[\"new_age\"] == i][\"passing_rate_y\"])\n",
        "    # TODO: Time Series with Differecing\n",
        "    # For cases where the vehicle is new, no point estimating, might be better to just model on age i over all the years or just taking the average of data with that age.\n",
        "    # Not completely sure what the question is looking for"
      ],
      "metadata": {
        "id": "J852kDFwNWEh"
      },
      "execution_count": null,
      "outputs": []
    },
    {
      "cell_type": "code",
      "source": [
        "# def forecast(series, diff, a, b):\n",
        "#     # Can try out different values of parameters after checking pacf plots (from statsmodels.graphics.tsaplots import plot_pacf, plot_pacf())\n",
        "#     model = ARIMA(series, order=(a, diff, b))\n",
        "#     results = model.fit()\n",
        "#     fcast_res = results.get_forecast()\n",
        "#     print(fcast_res.summary_frame(alpha=0.10))\n",
        "\n",
        "# Note: summary will give the range required"
      ],
      "metadata": {
        "id": "Nvi-CaMNMLsa"
      },
      "execution_count": 19,
      "outputs": []
    },
    {
      "cell_type": "code",
      "source": [
        "# def difference(series, iterations):\n",
        "#     for i in range(iterations):\n",
        "#         series = series.diff()[1:]\n",
        "#     result = adfuller(series)\n",
        "#     print('ADF Statistic: {}'.format(result[0]))\n",
        "#     # P-value should be < 0.05, input the iterations into forecast function\n",
        "#     print('p-value: {}'.format(result[1]))"
      ],
      "metadata": {
        "id": "4WR6T91_N36w"
      },
      "execution_count": null,
      "outputs": []
    },
    {
      "cell_type": "markdown",
      "source": [
        "### Task 2"
      ],
      "metadata": {
        "id": "7y-yEs3LcBMf"
      }
    },
    {
      "cell_type": "code",
      "source": [
        "# Import required packages\n",
        "import pandas as pd\n",
        "import numpy as np\n",
        "import matplotlib.pyplot as plt"
      ],
      "metadata": {
        "id": "oTLFCeXP122v"
      },
      "execution_count": null,
      "outputs": []
    },
    {
      "cell_type": "code",
      "source": [
        "df2 = pd.read_csv(\"cea-salespersons-property-transaction-records-residential.csv\")\n",
        "df2.head()"
      ],
      "metadata": {
        "colab": {
          "base_uri": "https://localhost:8080/",
          "height": 241
        },
        "id": "SauBkFanBiaz",
        "outputId": "5828d365-cd39-4a05-d42d-4f3d6f8b3a9b"
      },
      "execution_count": null,
      "outputs": [
        {
          "output_type": "stream",
          "name": "stderr",
          "text": [
            "/usr/local/lib/python3.7/dist-packages/IPython/core/interactiveshell.py:3326: DtypeWarning: Columns (7) have mixed types.Specify dtype option on import or set low_memory=False.\n",
            "  exec(code_obj, self.user_global_ns, self.user_ns)\n"
          ]
        },
        {
          "output_type": "execute_result",
          "data": {
            "text/plain": [
              "                    salesperson_name transaction_date salesperson_reg_num  \\\n",
              "0  MUHAMMAD NORIZZAM BIN KAMARUZAMAN         AUG-2018            R057250D   \n",
              "1                       LIM JOO HENG         AUG-2018            R011043H   \n",
              "2                       WONG TSU HAW         MAY-2017            R045055G   \n",
              "3                       TAY BEE KIAT         JUL-2018            R056733J   \n",
              "4                 SNG KIM ENG ANGELA         JAN-2017            R045695D   \n",
              "\n",
              "  property_type transaction_type represented           town district  \\\n",
              "0           HDB           RESALE       BUYER  BUKIT PANJANG        -   \n",
              "1           HDB           RESALE      SELLER  BUKIT PANJANG        -   \n",
              "2           HDB           RESALE      SELLER  BUKIT PANJANG        -   \n",
              "3           HDB           RESALE      SELLER  BUKIT PANJANG        -   \n",
              "4           HDB           RESALE       BUYER       SENGKANG        -   \n",
              "\n",
              "  general_location  \n",
              "0                -  \n",
              "1                -  \n",
              "2                -  \n",
              "3                -  \n",
              "4                -  "
            ],
            "text/html": [
              "\n",
              "  <div id=\"df-dc2200cc-a983-4a96-887d-dc079e3ce08d\">\n",
              "    <div class=\"colab-df-container\">\n",
              "      <div>\n",
              "<style scoped>\n",
              "    .dataframe tbody tr th:only-of-type {\n",
              "        vertical-align: middle;\n",
              "    }\n",
              "\n",
              "    .dataframe tbody tr th {\n",
              "        vertical-align: top;\n",
              "    }\n",
              "\n",
              "    .dataframe thead th {\n",
              "        text-align: right;\n",
              "    }\n",
              "</style>\n",
              "<table border=\"1\" class=\"dataframe\">\n",
              "  <thead>\n",
              "    <tr style=\"text-align: right;\">\n",
              "      <th></th>\n",
              "      <th>salesperson_name</th>\n",
              "      <th>transaction_date</th>\n",
              "      <th>salesperson_reg_num</th>\n",
              "      <th>property_type</th>\n",
              "      <th>transaction_type</th>\n",
              "      <th>represented</th>\n",
              "      <th>town</th>\n",
              "      <th>district</th>\n",
              "      <th>general_location</th>\n",
              "    </tr>\n",
              "  </thead>\n",
              "  <tbody>\n",
              "    <tr>\n",
              "      <th>0</th>\n",
              "      <td>MUHAMMAD NORIZZAM BIN KAMARUZAMAN</td>\n",
              "      <td>AUG-2018</td>\n",
              "      <td>R057250D</td>\n",
              "      <td>HDB</td>\n",
              "      <td>RESALE</td>\n",
              "      <td>BUYER</td>\n",
              "      <td>BUKIT PANJANG</td>\n",
              "      <td>-</td>\n",
              "      <td>-</td>\n",
              "    </tr>\n",
              "    <tr>\n",
              "      <th>1</th>\n",
              "      <td>LIM JOO HENG</td>\n",
              "      <td>AUG-2018</td>\n",
              "      <td>R011043H</td>\n",
              "      <td>HDB</td>\n",
              "      <td>RESALE</td>\n",
              "      <td>SELLER</td>\n",
              "      <td>BUKIT PANJANG</td>\n",
              "      <td>-</td>\n",
              "      <td>-</td>\n",
              "    </tr>\n",
              "    <tr>\n",
              "      <th>2</th>\n",
              "      <td>WONG TSU HAW</td>\n",
              "      <td>MAY-2017</td>\n",
              "      <td>R045055G</td>\n",
              "      <td>HDB</td>\n",
              "      <td>RESALE</td>\n",
              "      <td>SELLER</td>\n",
              "      <td>BUKIT PANJANG</td>\n",
              "      <td>-</td>\n",
              "      <td>-</td>\n",
              "    </tr>\n",
              "    <tr>\n",
              "      <th>3</th>\n",
              "      <td>TAY BEE KIAT</td>\n",
              "      <td>JUL-2018</td>\n",
              "      <td>R056733J</td>\n",
              "      <td>HDB</td>\n",
              "      <td>RESALE</td>\n",
              "      <td>SELLER</td>\n",
              "      <td>BUKIT PANJANG</td>\n",
              "      <td>-</td>\n",
              "      <td>-</td>\n",
              "    </tr>\n",
              "    <tr>\n",
              "      <th>4</th>\n",
              "      <td>SNG KIM ENG ANGELA</td>\n",
              "      <td>JAN-2017</td>\n",
              "      <td>R045695D</td>\n",
              "      <td>HDB</td>\n",
              "      <td>RESALE</td>\n",
              "      <td>BUYER</td>\n",
              "      <td>SENGKANG</td>\n",
              "      <td>-</td>\n",
              "      <td>-</td>\n",
              "    </tr>\n",
              "  </tbody>\n",
              "</table>\n",
              "</div>\n",
              "      <button class=\"colab-df-convert\" onclick=\"convertToInteractive('df-dc2200cc-a983-4a96-887d-dc079e3ce08d')\"\n",
              "              title=\"Convert this dataframe to an interactive table.\"\n",
              "              style=\"display:none;\">\n",
              "        \n",
              "  <svg xmlns=\"http://www.w3.org/2000/svg\" height=\"24px\"viewBox=\"0 0 24 24\"\n",
              "       width=\"24px\">\n",
              "    <path d=\"M0 0h24v24H0V0z\" fill=\"none\"/>\n",
              "    <path d=\"M18.56 5.44l.94 2.06.94-2.06 2.06-.94-2.06-.94-.94-2.06-.94 2.06-2.06.94zm-11 1L8.5 8.5l.94-2.06 2.06-.94-2.06-.94L8.5 2.5l-.94 2.06-2.06.94zm10 10l.94 2.06.94-2.06 2.06-.94-2.06-.94-.94-2.06-.94 2.06-2.06.94z\"/><path d=\"M17.41 7.96l-1.37-1.37c-.4-.4-.92-.59-1.43-.59-.52 0-1.04.2-1.43.59L10.3 9.45l-7.72 7.72c-.78.78-.78 2.05 0 2.83L4 21.41c.39.39.9.59 1.41.59.51 0 1.02-.2 1.41-.59l7.78-7.78 2.81-2.81c.8-.78.8-2.07 0-2.86zM5.41 20L4 18.59l7.72-7.72 1.47 1.35L5.41 20z\"/>\n",
              "  </svg>\n",
              "      </button>\n",
              "      \n",
              "  <style>\n",
              "    .colab-df-container {\n",
              "      display:flex;\n",
              "      flex-wrap:wrap;\n",
              "      gap: 12px;\n",
              "    }\n",
              "\n",
              "    .colab-df-convert {\n",
              "      background-color: #E8F0FE;\n",
              "      border: none;\n",
              "      border-radius: 50%;\n",
              "      cursor: pointer;\n",
              "      display: none;\n",
              "      fill: #1967D2;\n",
              "      height: 32px;\n",
              "      padding: 0 0 0 0;\n",
              "      width: 32px;\n",
              "    }\n",
              "\n",
              "    .colab-df-convert:hover {\n",
              "      background-color: #E2EBFA;\n",
              "      box-shadow: 0px 1px 2px rgba(60, 64, 67, 0.3), 0px 1px 3px 1px rgba(60, 64, 67, 0.15);\n",
              "      fill: #174EA6;\n",
              "    }\n",
              "\n",
              "    [theme=dark] .colab-df-convert {\n",
              "      background-color: #3B4455;\n",
              "      fill: #D2E3FC;\n",
              "    }\n",
              "\n",
              "    [theme=dark] .colab-df-convert:hover {\n",
              "      background-color: #434B5C;\n",
              "      box-shadow: 0px 1px 3px 1px rgba(0, 0, 0, 0.15);\n",
              "      filter: drop-shadow(0px 1px 2px rgba(0, 0, 0, 0.3));\n",
              "      fill: #FFFFFF;\n",
              "    }\n",
              "  </style>\n",
              "\n",
              "      <script>\n",
              "        const buttonEl =\n",
              "          document.querySelector('#df-dc2200cc-a983-4a96-887d-dc079e3ce08d button.colab-df-convert');\n",
              "        buttonEl.style.display =\n",
              "          google.colab.kernel.accessAllowed ? 'block' : 'none';\n",
              "\n",
              "        async function convertToInteractive(key) {\n",
              "          const element = document.querySelector('#df-dc2200cc-a983-4a96-887d-dc079e3ce08d');\n",
              "          const dataTable =\n",
              "            await google.colab.kernel.invokeFunction('convertToInteractive',\n",
              "                                                     [key], {});\n",
              "          if (!dataTable) return;\n",
              "\n",
              "          const docLinkHtml = 'Like what you see? Visit the ' +\n",
              "            '<a target=\"_blank\" href=https://colab.research.google.com/notebooks/data_table.ipynb>data table notebook</a>'\n",
              "            + ' to learn more about interactive tables.';\n",
              "          element.innerHTML = '';\n",
              "          dataTable['output_type'] = 'display_data';\n",
              "          await google.colab.output.renderOutput(dataTable, element);\n",
              "          const docLink = document.createElement('div');\n",
              "          docLink.innerHTML = docLinkHtml;\n",
              "          element.appendChild(docLink);\n",
              "        }\n",
              "      </script>\n",
              "    </div>\n",
              "  </div>\n",
              "  "
            ]
          },
          "metadata": {},
          "execution_count": 18
        }
      ]
    },
    {
      "cell_type": "code",
      "source": [
        "# Check for null values\n",
        "df2.isnull().sum()"
      ],
      "metadata": {
        "colab": {
          "base_uri": "https://localhost:8080/"
        },
        "id": "9nAZs1bqFdUr",
        "outputId": "b0a598c0-f578-40d6-9ef4-78933fed0582"
      },
      "execution_count": null,
      "outputs": [
        {
          "output_type": "execute_result",
          "data": {
            "text/plain": [
              "salesperson_name       0\n",
              "transaction_date       0\n",
              "salesperson_reg_num    0\n",
              "property_type          0\n",
              "transaction_type       0\n",
              "represented            0\n",
              "town                   0\n",
              "district               0\n",
              "general_location       0\n",
              "dtype: int64"
            ]
          },
          "metadata": {},
          "execution_count": 12
        }
      ]
    },
    {
      "cell_type": "code",
      "source": [
        "# Only retain the year value in transaction date\n",
        "df2[\"transaction_date\"] = df2[\"transaction_date\"].apply(lambda x: x.split(\"-\")[1])\n",
        "# Convert sales person number to lowercase in the case of duplicates\n",
        "df2[\"salesperson_reg_num\"] = df2[\"salesperson_reg_num\"].apply(lambda x: x.lower())\n",
        "# Remove the \"-\" in salesperson_reg_num\n",
        "df2 = df2.loc[~(df2['salesperson_reg_num'] == \"-\")]"
      ],
      "metadata": {
        "id": "CQBwjf6rBrRL"
      },
      "execution_count": null,
      "outputs": []
    },
    {
      "cell_type": "code",
      "source": [
        "# How many sales would you expect an agent to close each year? \n",
        "count = df2.groupby([\"salesperson_reg_num\", \"transaction_date\"])[\"salesperson_name\"].count().mean()\n",
        "count"
      ],
      "metadata": {
        "colab": {
          "base_uri": "https://localhost:8080/"
        },
        "id": "5mWcaa3nBrT0",
        "outputId": "497fca08-9df0-49f6-aecf-798827439cb4"
      },
      "execution_count": null,
      "outputs": [
        {
          "output_type": "execute_result",
          "data": {
            "text/plain": [
              "7.242878131381045"
            ]
          },
          "metadata": {},
          "execution_count": 21
        }
      ]
    },
    {
      "cell_type": "code",
      "source": [
        "# How much variation is there among agents?\n",
        "df_tmp = df2.groupby([\"salesperson_reg_num\", \"transaction_date\"])[\"salesperson_name\"].count().reset_index()\n",
        "df_variation = df_tmp.groupby(\"salesperson_reg_num\")[\"salesperson_name\"].sum().reset_index()\n",
        "df_variation.head()\n",
        "\n",
        "fig, ax = plt.subplots(figsize=(24,8))\n",
        "df_variation[\"Count\"] = df_tmp[\"salesperson_name\"].apply(lambda x: 51 if x > 50 else x)\n",
        "df_variation[\"Count\"].hist(bins=range(0, 50 + 5, 1))\n",
        "\n",
        "# The variation between agents is right skewed meaning there are few agents who have much higher sales than the rest"
      ],
      "metadata": {
        "colab": {
          "base_uri": "https://localhost:8080/",
          "height": 500
        },
        "id": "fOAtRn0Z2jna",
        "outputId": "d95c44b3-2879-48a8-e27f-be6bdb30776d"
      },
      "execution_count": null,
      "outputs": [
        {
          "output_type": "execute_result",
          "data": {
            "text/plain": [
              "<matplotlib.axes._subplots.AxesSubplot at 0x7f1c9e6a29d0>"
            ]
          },
          "metadata": {},
          "execution_count": 22
        },
        {
          "output_type": "display_data",
          "data": {
            "text/plain": [
              "<Figure size 1728x576 with 1 Axes>"
            ],
            "image/png": "[encoded data removed]"
          },
          "metadata": {
            "needs_background": "light"
          }
        }
      ]
    },
    {
      "cell_type": "code",
      "source": [
        "# Plot the distribution of number of sales by an agent in a year\n",
        "fig, ax = plt.subplots(figsize=(24,8))\n",
        "# Since the tail is long, we will sum up the frequency after 20 and bin them into bin 21\n",
        "df_tmp[\"Count\"] = df_tmp[\"salesperson_name\"].apply(lambda x: 21 if x > 20 else x)\n",
        "df_tmp[\"Count\"].hist(bins=range(0, 20 + 5, 1))"
      ],
      "metadata": {
        "colab": {
          "base_uri": "https://localhost:8080/",
          "height": 500
        },
        "id": "ZsoGUl4HJVzf",
        "outputId": "e98157da-ccf6-4f7e-ad42-0c54a3e9bd60"
      },
      "execution_count": null,
      "outputs": [
        {
          "output_type": "execute_result",
          "data": {
            "text/plain": [
              "<matplotlib.axes._subplots.AxesSubplot at 0x7f1c9df8dc90>"
            ]
          },
          "metadata": {},
          "execution_count": 23
        },
        {
          "output_type": "display_data",
          "data": {
            "text/plain": [
              "<Figure size 1728x576 with 1 Axes>"
            ],
            "image/png": "[encoded data removed]"
          },
          "metadata": {
            "needs_background": "light"
          }
        }
      ]
    },
    {
      "cell_type": "code",
      "source": [
        "# Find the mean and variance of the distribution. If mean = variance, we use Poisson, else Negative Binomial\n",
        "mean = count\n",
        "print(\"Mean: \" + str(mean))\n",
        "variance = sum((df_tmp[\"salesperson_name\"] - mean) ** 2) / (len(df_tmp)-1)\n",
        "print(\"Variance: \" + str(variance))"
      ],
      "metadata": {
        "colab": {
          "base_uri": "https://localhost:8080/"
        },
        "id": "RxAWx_du2pvt",
        "outputId": "33439122-cd1b-4ee0-8982-c460d457b58f"
      },
      "execution_count": null,
      "outputs": [
        {
          "output_type": "stream",
          "name": "stdout",
          "text": [
            "Mean: 7.242878131381045\n",
            "Variance: 140.83579874608782\n"
          ]
        }
      ]
    },
    {
      "cell_type": "code",
      "source": [
        "# We will use negative binomial. \n",
        "# Reason being the number of sales are discrete and has a long right tail (rare events)\n",
        "# Also, since there is overdispersion as seen from mean != variance, negative binomial will be more suitable\n",
        "# More specifically, we use a zero-truncated negative binomial as when agent do not make any sales, it will not be recorded hence it is not possible to have 0 sales.\n",
        "# Limitation involves having more parameters to estimate."
      ],
      "metadata": {
        "id": "67t8T5of2px9"
      },
      "execution_count": null,
      "outputs": []
    },
    {
      "cell_type": "code",
      "source": [
        "# Use apriori algorithm as association rule\n",
        "# Find support of event A where event A is the salesperson transact in Yishun and Sembawang\n",
        "A = df2.groupby(\"salesperson_reg_num\")[\"town\"].sum().reset_index(name='town_list')\n",
        "A[\"visited\"] = A[\"town_list\"].apply(lambda x: 1 if ((\"YISHUN\" in x) and (\"SEMBAWANG\" in x)) else 0)\n",
        "support = len(A.loc[A[\"visited\"] == 1]) / len(A)"
      ],
      "metadata": {
        "id": "bysLii0D2p0Y"
      },
      "execution_count": null,
      "outputs": []
    },
    {
      "cell_type": "code",
      "source": [
        "# Find the confidence of event A and B where B is the event that the salesperson visited town X\n",
        "visited = A.loc[A[\"visited\"] == 1]\n",
        "dic = {}\n",
        "for i in df2[\"town\"].unique():\n",
        "    C = visited.copy()\n",
        "    B = A.copy()\n",
        "    C[\"visited\"] = C[\"town_list\"].apply(lambda x: 1 if (i in x) else 0)\n",
        "    B[\"visited\"] = B[\"town_list\"].apply(lambda x: 1 if (i in x) else 0)\n",
        "    if len(C.loc[C[\"visited\"] == 1]) > 0:\n",
        "        dic[i] = len(C.loc[C[\"visited\"] == 1]) / len(B.loc[B[\"visited\"] == 1])\n",
        "# Find the lift of event A on B, the higher the lift, the more likely the salesman visits town X if he visits Yishun and Sembawang\n",
        "dic = {k: v/support for k, v in sorted(dic.items(), key=lambda item: item[1], reverse=True)}\n",
        "dic "
      ],
      "metadata": {
        "colab": {
          "base_uri": "https://localhost:8080/"
        },
        "id": "GgUtByYy2p5D",
        "outputId": "65c86748-b9d3-49e0-a9f4-1f7cf88bbe43"
      },
      "execution_count": null,
      "outputs": [
        {
          "output_type": "execute_result",
          "data": {
            "text/plain": [
              "{'SEMBAWANG': 7.790201005025127,\n",
              " 'YISHUN': 4.056918547595682,\n",
              " 'WOODLANDS': 3.219876766386099,\n",
              " 'JURONG EAST': 3.2014636302001844,\n",
              " 'BUKIT PANJANG': 3.124044181366861,\n",
              " 'CHOA CHU KANG': 3.0811426613118043,\n",
              " 'BISHAN': 2.952837995364156,\n",
              " 'PASIR RIS': 2.935930268355379,\n",
              " 'BUKIT BATOK': 2.9227766402704787,\n",
              " 'SERANGOON': 2.9070595766016876,\n",
              " 'ANG MO KIO': 2.824173707432246,\n",
              " 'CENTRAL AREA': 2.7217518999472055,\n",
              " 'JURONG WEST': 2.713870194728869,\n",
              " 'GEYLANG': 2.6849963822929688,\n",
              " 'CLEMENTI': 2.6728540854705853,\n",
              " 'HOUGANG': 2.651080945717782,\n",
              " 'TOA PAYOH': 2.645836892131679,\n",
              " 'PUNGGOL': 2.59403328290469,\n",
              " 'MARINE PARADE': 2.545068412738562,\n",
              " 'KALLANG/WHAMPOA': 2.4802438573753425,\n",
              " 'SENGKANG': 2.465228897795883,\n",
              " 'BEDOK': 2.3929326443760046,\n",
              " 'TAMPINES': 2.3486819108447685,\n",
              " 'QUEENSTOWN': 2.329785371503477,\n",
              " 'BUKIT MERAH': 2.3294092339466546,\n",
              " 'BUKIT TIMAH': 2.1974076951384065,\n",
              " '-': 1.118026739690351}"
            ]
          },
          "metadata": {},
          "execution_count": 27
        }
      ]
    },
    {
      "cell_type": "code",
      "source": [
        "# Woodlands, Jurong East and Bukit Panjang is the highest which meakes sense since they are nearer to Yishun and Sembawang."
      ],
      "metadata": {
        "id": "p5JznaQATWlF"
      },
      "execution_count": null,
      "outputs": []
    },
    {
      "cell_type": "markdown",
      "source": [
        "### Task 3 (Classification)"
      ],
      "metadata": {
        "id": "IUj0ZWAIamhT"
      }
    },
    {
      "cell_type": "code",
      "source": [
        "!pip install pykml\n",
        "!pip install xgboost --upgrade\n",
        "# Importing packages\n",
        "from pykml import parser\n",
        "from sklearn.preprocessing import LabelEncoder\n",
        "import seaborn as sns\n",
        "import xgboost as xgb\n",
        "from sklearn.metrics import accuracy_score\n",
        "from sklearn.metrics import f1_score\n",
        "from sklearn.metrics import confusion_matrix\n",
        "from sklearn.model_selection import train_test_split"
      ],
      "metadata": {
        "id": "RRCXIj3tK5Zw",
        "colab": {
          "base_uri": "https://localhost:8080/"
        },
        "outputId": "fffe6958-2101-4927-94f0-89a33e2594aa"
      },
      "execution_count": null,
      "outputs": [
        {
          "output_type": "stream",
          "name": "stdout",
          "text": [
            "Looking in indexes: https://pypi.org/simple, https://us-python.pkg.dev/colab-wheels/public/simple/\n",
            "Collecting pykml\n",
            "  Downloading pykml-0.2.0-py3-none-any.whl (41 kB)\n",
            "\u001b[K     |████████████████████████████████| 41 kB 116 kB/s \n",
            "\u001b[?25hRequirement already satisfied: lxml>=3.3.6 in /usr/local/lib/python3.7/dist-packages (from pykml) (4.9.1)\n",
            "Installing collected packages: pykml\n",
            "Successfully installed pykml-0.2.0\n",
            "Looking in indexes: https://pypi.org/simple, https://us-python.pkg.dev/colab-wheels/public/simple/\n",
            "Requirement already satisfied: xgboost in /usr/local/lib/python3.7/dist-packages (0.90)\n",
            "Collecting xgboost\n",
            "  Downloading xgboost-1.6.2-py3-none-manylinux2014_x86_64.whl (255.9 MB)\n",
            "\u001b[K     |████████████████████████████████| 255.9 MB 43 kB/s \n",
            "\u001b[?25hRequirement already satisfied: numpy in /usr/local/lib/python3.7/dist-packages (from xgboost) (1.21.6)\n",
            "Requirement already satisfied: scipy in /usr/local/lib/python3.7/dist-packages (from xgboost) (1.7.3)\n",
            "Installing collected packages: xgboost\n",
            "  Attempting uninstall: xgboost\n",
            "    Found existing installation: xgboost 0.90\n",
            "    Uninstalling xgboost-0.90:\n",
            "      Successfully uninstalled xgboost-0.90\n",
            "Successfully installed xgboost-1.6.2\n"
          ]
        }
      ]
    },
    {
      "cell_type": "code",
      "source": [
        "# Parse kml file\n",
        "kml_file = \"wireless-hotspots-kml.kml\"\n",
        "with open(kml_file) as f:\n",
        "    doc = parser.parse(f)"
      ],
      "metadata": {
        "id": "y85lWOuyNdpQ"
      },
      "execution_count": null,
      "outputs": []
    },
    {
      "cell_type": "code",
      "source": [
        "# Loading data into list \n",
        "Y, X, location_name, location_type, postal_code = [], [], [], [], []\n",
        "address, operator, inc, fmel= [], [], [], []\n",
        "coord = []\n",
        "\n",
        "for tags in doc.getroot().Document.Folder.Placemark:      \n",
        "    for tmp in tags.ExtendedData.SchemaData.SimpleData:\n",
        "        if tmp.attrib.get('name') == \"Y\":\n",
        "            Y.append(tmp.text)\n",
        "        elif tmp.attrib.get('name') == \"X\":\n",
        "            X.append(tmp.text)\n",
        "        elif tmp.attrib.get('name') == \"LOCATION_NAME\":\n",
        "            location_name.append(tmp.text)\n",
        "        elif tmp.attrib.get('name') == \"LOCATION_TYPE\":\n",
        "            location_type.append(tmp.text)\n",
        "        elif tmp.attrib.get('name') == \"POSTAL_CODE\":\n",
        "            postal_code.append(tmp.text)\n",
        "        elif tmp.attrib.get('name') == \"STREET_ADDRESS\":\n",
        "            address.append(tmp.text)\n",
        "        elif tmp.attrib.get('name') == \"OPERATOR_NAME\":\n",
        "            operator.append(tmp.text)\n",
        "        elif tmp.attrib.get('name') == \"INC_CRC\":\n",
        "            inc.append(tmp.text)\n",
        "        elif tmp.attrib.get('name') == \"FMEL_UPD_D\":\n",
        "            fmel.append(tmp.text)\n",
        "    \n",
        "    for tmp in tags.Point.coordinates:\n",
        "        coord.append(tmp.text.split(\" \"))"
      ],
      "metadata": {
        "id": "gUPm_MKK8ohR"
      },
      "execution_count": null,
      "outputs": []
    },
    {
      "cell_type": "code",
      "source": [
        "# Converts kml file into pandas dataframe\n",
        "df3 = pd.DataFrame(list(zip(Y, X, location_name, location_type, postal_code, address, operator, inc, fmel, coord)), columns=[\"Y\", \"X\", \"Name\", \"Type\", \"Postal\", \"Address\", \"Operator\", \"Inc\", \"Fmel\", \"Coord\"])\n",
        "df3[\"Coord\"] = df3[\"Coord\"].apply(lambda x: x[0])\n",
        "coord1 = df3[\"Coord\"].str.split(\",\", expand = True)\n",
        "df3[\"Longitude\"] = coord1[0]\n",
        "df3[\"Latitude\"] = coord1[1]\n",
        "df3.drop(columns =[\"Coord\"], inplace = True)\n",
        "df3.head()"
      ],
      "metadata": {
        "colab": {
          "base_uri": "https://localhost:8080/",
          "height": 206
        },
        "id": "Zk5wucYG8okp",
        "outputId": "36480eab-f928-4193-bf17-b46139400e4b"
      },
      "execution_count": null,
      "outputs": [
        {
          "output_type": "execute_result",
          "data": {
            "text/plain": [
              "             Y            X                   Name        Type  Postal  \\\n",
              "0  36922.92412  18450.95232         Bukit Batok CC   Community  659959   \n",
              "1  45530.46595  28308.65184     1 Northpoint Drive   Community  768019   \n",
              "2  31394.65632  30187.62071        155 Waterloo St  Government  187962   \n",
              "3  29861.29437  29464.67939  20 Upper Pickering St   Community  058284   \n",
              "4  42345.17715  34269.36498         7 Star Canteen         F&B  540338   \n",
              "\n",
              "                     Address Operator               Inc            Fmel  \\\n",
              "0     21 Bukit Batok Central       M1  9BB55356462956EF  20200318162531   \n",
              "1         1 Northpoint Drive       M1  BD725D1716D3959C  20200318162531   \n",
              "2        155 Waterloo Street       M1  05EF8371C69FD210  20200318162531   \n",
              "3  20 Upper Pickering Street       M1  AD6A8E558E96E20B  20200318162531   \n",
              "4    338 Anchorvale Crescent       M1  67FF233DF9721356  20200318162531   \n",
              "\n",
              "          Longitude          Latitude  \n",
              "0  103.747514398535  1.35019080604781  \n",
              "1  103.836092102185  1.42803584532257  \n",
              "2  103.852975339767   1.3001965525977  \n",
              "3  103.846479315186  1.28632940482837  \n",
              "4   103.88965392915   1.3992285612873  "
            ],
            "text/html": [
              "\n",
              "  <div id=\"df-f78097ff-833e-4823-9f72-9d752199d168\">\n",
              "    <div class=\"colab-df-container\">\n",
              "      <div>\n",
              "<style scoped>\n",
              "    .dataframe tbody tr th:only-of-type {\n",
              "        vertical-align: middle;\n",
              "    }\n",
              "\n",
              "    .dataframe tbody tr th {\n",
              "        vertical-align: top;\n",
              "    }\n",
              "\n",
              "    .dataframe thead th {\n",
              "        text-align: right;\n",
              "    }\n",
              "</style>\n",
              "<table border=\"1\" class=\"dataframe\">\n",
              "  <thead>\n",
              "    <tr style=\"text-align: right;\">\n",
              "      <th></th>\n",
              "      <th>Y</th>\n",
              "      <th>X</th>\n",
              "      <th>Name</th>\n",
              "      <th>Type</th>\n",
              "      <th>Postal</th>\n",
              "      <th>Address</th>\n",
              "      <th>Operator</th>\n",
              "      <th>Inc</th>\n",
              "      <th>Fmel</th>\n",
              "      <th>Longitude</th>\n",
              "      <th>Latitude</th>\n",
              "    </tr>\n",
              "  </thead>\n",
              "  <tbody>\n",
              "    <tr>\n",
              "      <th>0</th>\n",
              "      <td>36922.92412</td>\n",
              "      <td>18450.95232</td>\n",
              "      <td>Bukit Batok CC</td>\n",
              "      <td>Community</td>\n",
              "      <td>659959</td>\n",
              "      <td>21 Bukit Batok Central</td>\n",
              "      <td>M1</td>\n",
              "      <td>9BB55356462956EF</td>\n",
              "      <td>20200318162531</td>\n",
              "      <td>103.747514398535</td>\n",
              "      <td>1.35019080604781</td>\n",
              "    </tr>\n",
              "    <tr>\n",
              "      <th>1</th>\n",
              "      <td>45530.46595</td>\n",
              "      <td>28308.65184</td>\n",
              "      <td>1 Northpoint Drive</td>\n",
              "      <td>Community</td>\n",
              "      <td>768019</td>\n",
              "      <td>1 Northpoint Drive</td>\n",
              "      <td>M1</td>\n",
              "      <td>BD725D1716D3959C</td>\n",
              "      <td>20200318162531</td>\n",
              "      <td>103.836092102185</td>\n",
              "      <td>1.42803584532257</td>\n",
              "    </tr>\n",
              "    <tr>\n",
              "      <th>2</th>\n",
              "      <td>31394.65632</td>\n",
              "      <td>30187.62071</td>\n",
              "      <td>155 Waterloo St</td>\n",
              "      <td>Government</td>\n",
              "      <td>187962</td>\n",
              "      <td>155 Waterloo Street</td>\n",
              "      <td>M1</td>\n",
              "      <td>05EF8371C69FD210</td>\n",
              "      <td>20200318162531</td>\n",
              "      <td>103.852975339767</td>\n",
              "      <td>1.3001965525977</td>\n",
              "    </tr>\n",
              "    <tr>\n",
              "      <th>3</th>\n",
              "      <td>29861.29437</td>\n",
              "      <td>29464.67939</td>\n",
              "      <td>20 Upper Pickering St</td>\n",
              "      <td>Community</td>\n",
              "      <td>058284</td>\n",
              "      <td>20 Upper Pickering Street</td>\n",
              "      <td>M1</td>\n",
              "      <td>AD6A8E558E96E20B</td>\n",
              "      <td>20200318162531</td>\n",
              "      <td>103.846479315186</td>\n",
              "      <td>1.28632940482837</td>\n",
              "    </tr>\n",
              "    <tr>\n",
              "      <th>4</th>\n",
              "      <td>42345.17715</td>\n",
              "      <td>34269.36498</td>\n",
              "      <td>7 Star Canteen</td>\n",
              "      <td>F&amp;B</td>\n",
              "      <td>540338</td>\n",
              "      <td>338 Anchorvale Crescent</td>\n",
              "      <td>M1</td>\n",
              "      <td>67FF233DF9721356</td>\n",
              "      <td>20200318162531</td>\n",
              "      <td>103.88965392915</td>\n",
              "      <td>1.3992285612873</td>\n",
              "    </tr>\n",
              "  </tbody>\n",
              "</table>\n",
              "</div>\n",
              "      <button class=\"colab-df-convert\" onclick=\"convertToInteractive('df-f78097ff-833e-4823-9f72-9d752199d168')\"\n",
              "              title=\"Convert this dataframe to an interactive table.\"\n",
              "              style=\"display:none;\">\n",
              "        \n",
              "  <svg xmlns=\"http://www.w3.org/2000/svg\" height=\"24px\"viewBox=\"0 0 24 24\"\n",
              "       width=\"24px\">\n",
              "    <path d=\"M0 0h24v24H0V0z\" fill=\"none\"/>\n",
              "    <path d=\"M18.56 5.44l.94 2.06.94-2.06 2.06-.94-2.06-.94-.94-2.06-.94 2.06-2.06.94zm-11 1L8.5 8.5l.94-2.06 2.06-.94-2.06-.94L8.5 2.5l-.94 2.06-2.06.94zm10 10l.94 2.06.94-2.06 2.06-.94-2.06-.94-.94-2.06-.94 2.06-2.06.94z\"/><path d=\"M17.41 7.96l-1.37-1.37c-.4-.4-.92-.59-1.43-.59-.52 0-1.04.2-1.43.59L10.3 9.45l-7.72 7.72c-.78.78-.78 2.05 0 2.83L4 21.41c.39.39.9.59 1.41.59.51 0 1.02-.2 1.41-.59l7.78-7.78 2.81-2.81c.8-.78.8-2.07 0-2.86zM5.41 20L4 18.59l7.72-7.72 1.47 1.35L5.41 20z\"/>\n",
              "  </svg>\n",
              "      </button>\n",
              "      \n",
              "  <style>\n",
              "    .colab-df-container {\n",
              "      display:flex;\n",
              "      flex-wrap:wrap;\n",
              "      gap: 12px;\n",
              "    }\n",
              "\n",
              "    .colab-df-convert {\n",
              "      background-color: #E8F0FE;\n",
              "      border: none;\n",
              "      border-radius: 50%;\n",
              "      cursor: pointer;\n",
              "      display: none;\n",
              "      fill: #1967D2;\n",
              "      height: 32px;\n",
              "      padding: 0 0 0 0;\n",
              "      width: 32px;\n",
              "    }\n",
              "\n",
              "    .colab-df-convert:hover {\n",
              "      background-color: #E2EBFA;\n",
              "      box-shadow: 0px 1px 2px rgba(60, 64, 67, 0.3), 0px 1px 3px 1px rgba(60, 64, 67, 0.15);\n",
              "      fill: #174EA6;\n",
              "    }\n",
              "\n",
              "    [theme=dark] .colab-df-convert {\n",
              "      background-color: #3B4455;\n",
              "      fill: #D2E3FC;\n",
              "    }\n",
              "\n",
              "    [theme=dark] .colab-df-convert:hover {\n",
              "      background-color: #434B5C;\n",
              "      box-shadow: 0px 1px 3px 1px rgba(0, 0, 0, 0.15);\n",
              "      filter: drop-shadow(0px 1px 2px rgba(0, 0, 0, 0.3));\n",
              "      fill: #FFFFFF;\n",
              "    }\n",
              "  </style>\n",
              "\n",
              "      <script>\n",
              "        const buttonEl =\n",
              "          document.querySelector('#df-f78097ff-833e-4823-9f72-9d752199d168 button.colab-df-convert');\n",
              "        buttonEl.style.display =\n",
              "          google.colab.kernel.accessAllowed ? 'block' : 'none';\n",
              "\n",
              "        async function convertToInteractive(key) {\n",
              "          const element = document.querySelector('#df-f78097ff-833e-4823-9f72-9d752199d168');\n",
              "          const dataTable =\n",
              "            await google.colab.kernel.invokeFunction('convertToInteractive',\n",
              "                                                     [key], {});\n",
              "          if (!dataTable) return;\n",
              "\n",
              "          const docLinkHtml = 'Like what you see? Visit the ' +\n",
              "            '<a target=\"_blank\" href=https://colab.research.google.com/notebooks/data_table.ipynb>data table notebook</a>'\n",
              "            + ' to learn more about interactive tables.';\n",
              "          element.innerHTML = '';\n",
              "          dataTable['output_type'] = 'display_data';\n",
              "          await google.colab.output.renderOutput(dataTable, element);\n",
              "          const docLink = document.createElement('div');\n",
              "          docLink.innerHTML = docLinkHtml;\n",
              "          element.appendChild(docLink);\n",
              "        }\n",
              "      </script>\n",
              "    </div>\n",
              "  </div>\n",
              "  "
            ]
          },
          "metadata": {},
          "execution_count": 17
        }
      ]
    },
    {
      "cell_type": "code",
      "source": [
        "# You can deduce the above columns for each hotspot."
      ],
      "metadata": {
        "id": "1Rwpv4QZV6hS"
      },
      "execution_count": null,
      "outputs": []
    },
    {
      "cell_type": "code",
      "source": [
        "# Check for null values\n",
        "df3.isnull().sum()"
      ],
      "metadata": {
        "colab": {
          "base_uri": "https://localhost:8080/"
        },
        "id": "YzO_zhADbz4I",
        "outputId": "842a203b-aa00-4eb1-fca6-021c147b5dbe"
      },
      "execution_count": null,
      "outputs": [
        {
          "output_type": "execute_result",
          "data": {
            "text/plain": [
              "Y            0\n",
              "X            0\n",
              "Name         0\n",
              "Type         0\n",
              "Postal       0\n",
              "Address      0\n",
              "Operator     0\n",
              "Inc          0\n",
              "Fmel         0\n",
              "Longitude    0\n",
              "Latitude     0\n",
              "dtype: int64"
            ]
          },
          "metadata": {},
          "execution_count": 18
        }
      ]
    },
    {
      "cell_type": "code",
      "source": [
        "# Since first 2 digits are sector code in postal code, we use it as a new feature\n",
        "df3[\"Sector\"] = df3[\"Postal\"].apply(lambda x: x[:2])\n",
        "df3[\"Postal\"] = df3[\"Postal\"].apply(lambda x: int(x[2:]))\n",
        "\n",
        "# Converts into appropriate data types\n",
        "df3[\"Y\"] = df3[\"Y\"].astype(\"float64\")\n",
        "df3[\"X\"] = df3[\"X\"].astype(\"float64\")\n",
        "df3[\"Latitude\"] = df3[\"Latitude\"].astype(\"float64\")\n",
        "df3[\"Longitude\"] = df3[\"Longitude\"].astype(\"float64\")"
      ],
      "metadata": {
        "id": "y7pO7w1ILBOD"
      },
      "execution_count": null,
      "outputs": []
    },
    {
      "cell_type": "code",
      "source": [
        "# Visualization of correlation between target and features\n",
        "pd.crosstab(index=df3['Operator'], columns=df3['Type'])"
      ],
      "metadata": {
        "colab": {
          "base_uri": "https://localhost:8080/",
          "height": 206
        },
        "id": "P8e3MSK9F3kM",
        "outputId": "3ac58662-3aa8-46aa-9352-2e1df791bbee"
      },
      "execution_count": null,
      "outputs": [
        {
          "output_type": "execute_result",
          "data": {
            "text/plain": [
              "Type        Commercial  Community  Dormitory / Care Centre  F&B  Government  \\\n",
              "Operator                                                                      \n",
              "M1                  45        554                        4  198          15   \n",
              "MyRepublic          63          0                        0    2           0   \n",
              "Singtel             13          2                        0  226           8   \n",
              "StarHub              4          1                        0    0           2   \n",
              "\n",
              "Type        Healthcare  Public Transport  Public Worship  Retail Shop  School  \\\n",
              "Operator                                                                        \n",
              "M1                 360                 2               2           17       2   \n",
              "MyRepublic           0                 0               0            0       0   \n",
              "Singtel             55                44               0            5       0   \n",
              "StarHub              0                 0               0            1      22   \n",
              "\n",
              "Type        Shopping Mall  Tourist Attraction  Welfare Organisation  \n",
              "Operator                                                             \n",
              "M1                      7                  12                   122  \n",
              "MyRepublic              0                   0                     0  \n",
              "Singtel                 0                   0                     0  \n",
              "StarHub                 9                   0                     1  "
            ],
            "text/html": [
              "\n",
              "  <div id=\"df-87465397-d264-49aa-b62e-11064d76b124\">\n",
              "    <div class=\"colab-df-container\">\n",
              "      <div>\n",
              "<style scoped>\n",
              "    .dataframe tbody tr th:only-of-type {\n",
              "        vertical-align: middle;\n",
              "    }\n",
              "\n",
              "    .dataframe tbody tr th {\n",
              "        vertical-align: top;\n",
              "    }\n",
              "\n",
              "    .dataframe thead th {\n",
              "        text-align: right;\n",
              "    }\n",
              "</style>\n",
              "<table border=\"1\" class=\"dataframe\">\n",
              "  <thead>\n",
              "    <tr style=\"text-align: right;\">\n",
              "      <th>Type</th>\n",
              "      <th>Commercial</th>\n",
              "      <th>Community</th>\n",
              "      <th>Dormitory / Care Centre</th>\n",
              "      <th>F&amp;B</th>\n",
              "      <th>Government</th>\n",
              "      <th>Healthcare</th>\n",
              "      <th>Public Transport</th>\n",
              "      <th>Public Worship</th>\n",
              "      <th>Retail Shop</th>\n",
              "      <th>School</th>\n",
              "      <th>Shopping Mall</th>\n",
              "      <th>Tourist Attraction</th>\n",
              "      <th>Welfare Organisation</th>\n",
              "    </tr>\n",
              "    <tr>\n",
              "      <th>Operator</th>\n",
              "      <th></th>\n",
              "      <th></th>\n",
              "      <th></th>\n",
              "      <th></th>\n",
              "      <th></th>\n",
              "      <th></th>\n",
              "      <th></th>\n",
              "      <th></th>\n",
              "      <th></th>\n",
              "      <th></th>\n",
              "      <th></th>\n",
              "      <th></th>\n",
              "      <th></th>\n",
              "    </tr>\n",
              "  </thead>\n",
              "  <tbody>\n",
              "    <tr>\n",
              "      <th>M1</th>\n",
              "      <td>45</td>\n",
              "      <td>554</td>\n",
              "      <td>4</td>\n",
              "      <td>198</td>\n",
              "      <td>15</td>\n",
              "      <td>360</td>\n",
              "      <td>2</td>\n",
              "      <td>2</td>\n",
              "      <td>17</td>\n",
              "      <td>2</td>\n",
              "      <td>7</td>\n",
              "      <td>12</td>\n",
              "      <td>122</td>\n",
              "    </tr>\n",
              "    <tr>\n",
              "      <th>MyRepublic</th>\n",
              "      <td>63</td>\n",
              "      <td>0</td>\n",
              "      <td>0</td>\n",
              "      <td>2</td>\n",
              "      <td>0</td>\n",
              "      <td>0</td>\n",
              "      <td>0</td>\n",
              "      <td>0</td>\n",
              "      <td>0</td>\n",
              "      <td>0</td>\n",
              "      <td>0</td>\n",
              "      <td>0</td>\n",
              "      <td>0</td>\n",
              "    </tr>\n",
              "    <tr>\n",
              "      <th>Singtel</th>\n",
              "      <td>13</td>\n",
              "      <td>2</td>\n",
              "      <td>0</td>\n",
              "      <td>226</td>\n",
              "      <td>8</td>\n",
              "      <td>55</td>\n",
              "      <td>44</td>\n",
              "      <td>0</td>\n",
              "      <td>5</td>\n",
              "      <td>0</td>\n",
              "      <td>0</td>\n",
              "      <td>0</td>\n",
              "      <td>0</td>\n",
              "    </tr>\n",
              "    <tr>\n",
              "      <th>StarHub</th>\n",
              "      <td>4</td>\n",
              "      <td>1</td>\n",
              "      <td>0</td>\n",
              "      <td>0</td>\n",
              "      <td>2</td>\n",
              "      <td>0</td>\n",
              "      <td>0</td>\n",
              "      <td>0</td>\n",
              "      <td>1</td>\n",
              "      <td>22</td>\n",
              "      <td>9</td>\n",
              "      <td>0</td>\n",
              "      <td>1</td>\n",
              "    </tr>\n",
              "  </tbody>\n",
              "</table>\n",
              "</div>\n",
              "      <button class=\"colab-df-convert\" onclick=\"convertToInteractive('df-87465397-d264-49aa-b62e-11064d76b124')\"\n",
              "              title=\"Convert this dataframe to an interactive table.\"\n",
              "              style=\"display:none;\">\n",
              "        \n",
              "  <svg xmlns=\"http://www.w3.org/2000/svg\" height=\"24px\"viewBox=\"0 0 24 24\"\n",
              "       width=\"24px\">\n",
              "    <path d=\"M0 0h24v24H0V0z\" fill=\"none\"/>\n",
              "    <path d=\"M18.56 5.44l.94 2.06.94-2.06 2.06-.94-2.06-.94-.94-2.06-.94 2.06-2.06.94zm-11 1L8.5 8.5l.94-2.06 2.06-.94-2.06-.94L8.5 2.5l-.94 2.06-2.06.94zm10 10l.94 2.06.94-2.06 2.06-.94-2.06-.94-.94-2.06-.94 2.06-2.06.94z\"/><path d=\"M17.41 7.96l-1.37-1.37c-.4-.4-.92-.59-1.43-.59-.52 0-1.04.2-1.43.59L10.3 9.45l-7.72 7.72c-.78.78-.78 2.05 0 2.83L4 21.41c.39.39.9.59 1.41.59.51 0 1.02-.2 1.41-.59l7.78-7.78 2.81-2.81c.8-.78.8-2.07 0-2.86zM5.41 20L4 18.59l7.72-7.72 1.47 1.35L5.41 20z\"/>\n",
              "  </svg>\n",
              "      </button>\n",
              "      \n",
              "  <style>\n",
              "    .colab-df-container {\n",
              "      display:flex;\n",
              "      flex-wrap:wrap;\n",
              "      gap: 12px;\n",
              "    }\n",
              "\n",
              "    .colab-df-convert {\n",
              "      background-color: #E8F0FE;\n",
              "      border: none;\n",
              "      border-radius: 50%;\n",
              "      cursor: pointer;\n",
              "      display: none;\n",
              "      fill: #1967D2;\n",
              "      height: 32px;\n",
              "      padding: 0 0 0 0;\n",
              "      width: 32px;\n",
              "    }\n",
              "\n",
              "    .colab-df-convert:hover {\n",
              "      background-color: #E2EBFA;\n",
              "      box-shadow: 0px 1px 2px rgba(60, 64, 67, 0.3), 0px 1px 3px 1px rgba(60, 64, 67, 0.15);\n",
              "      fill: #174EA6;\n",
              "    }\n",
              "\n",
              "    [theme=dark] .colab-df-convert {\n",
              "      background-color: #3B4455;\n",
              "      fill: #D2E3FC;\n",
              "    }\n",
              "\n",
              "    [theme=dark] .colab-df-convert:hover {\n",
              "      background-color: #434B5C;\n",
              "      box-shadow: 0px 1px 3px 1px rgba(0, 0, 0, 0.15);\n",
              "      filter: drop-shadow(0px 1px 2px rgba(0, 0, 0, 0.3));\n",
              "      fill: #FFFFFF;\n",
              "    }\n",
              "  </style>\n",
              "\n",
              "      <script>\n",
              "        const buttonEl =\n",
              "          document.querySelector('#df-87465397-d264-49aa-b62e-11064d76b124 button.colab-df-convert');\n",
              "        buttonEl.style.display =\n",
              "          google.colab.kernel.accessAllowed ? 'block' : 'none';\n",
              "\n",
              "        async function convertToInteractive(key) {\n",
              "          const element = document.querySelector('#df-87465397-d264-49aa-b62e-11064d76b124');\n",
              "          const dataTable =\n",
              "            await google.colab.kernel.invokeFunction('convertToInteractive',\n",
              "                                                     [key], {});\n",
              "          if (!dataTable) return;\n",
              "\n",
              "          const docLinkHtml = 'Like what you see? Visit the ' +\n",
              "            '<a target=\"_blank\" href=https://colab.research.google.com/notebooks/data_table.ipynb>data table notebook</a>'\n",
              "            + ' to learn more about interactive tables.';\n",
              "          element.innerHTML = '';\n",
              "          dataTable['output_type'] = 'display_data';\n",
              "          await google.colab.output.renderOutput(dataTable, element);\n",
              "          const docLink = document.createElement('div');\n",
              "          docLink.innerHTML = docLinkHtml;\n",
              "          element.appendChild(docLink);\n",
              "        }\n",
              "      </script>\n",
              "    </div>\n",
              "  </div>\n",
              "  "
            ]
          },
          "metadata": {},
          "execution_count": 20
        }
      ]
    },
    {
      "cell_type": "code",
      "source": [
        "# Visualization of correlation between X, Y and Type\n",
        "fig, ax = plt.subplots(figsize=(8, 8))\n",
        "sns.scatterplot(x='X', y='Y', data=df3, hue='Type', ec=None)"
      ],
      "metadata": {
        "colab": {
          "base_uri": "https://localhost:8080/",
          "height": 514
        },
        "id": "aEHhAY6_EvI0",
        "outputId": "9dd394f0-2493-48ca-a7e1-217bfdfbccd5"
      },
      "execution_count": null,
      "outputs": [
        {
          "output_type": "execute_result",
          "data": {
            "text/plain": [
              "<matplotlib.axes._subplots.AxesSubplot at 0x7f3674e8d690>"
            ]
          },
          "metadata": {},
          "execution_count": 21
        },
        {
          "output_type": "display_data",
          "data": {
            "text/plain": [
              "<Figure size 576x576 with 1 Axes>"
            ],
            "image/png": "[encoded data removed]"
          },
          "metadata": {
            "needs_background": "light"
          }
        }
      ]
    },
    {
      "cell_type": "code",
      "source": [
        "# Visualization of correlation between X, Y and Operator\n",
        "fig, ax = plt.subplots(figsize=(8, 8))\n",
        "sns.scatterplot(x='X', y='Y', data=df3, hue='Operator', ec=None)"
      ],
      "metadata": {
        "colab": {
          "base_uri": "https://localhost:8080/",
          "height": 514
        },
        "id": "5swNw4azG-5N",
        "outputId": "acacc5a4-d472-490c-c782-af50c9e2ecb5"
      },
      "execution_count": null,
      "outputs": [
        {
          "output_type": "execute_result",
          "data": {
            "text/plain": [
              "<matplotlib.axes._subplots.AxesSubplot at 0x7f3674f03750>"
            ]
          },
          "metadata": {},
          "execution_count": 22
        },
        {
          "output_type": "display_data",
          "data": {
            "text/plain": [
              "<Figure size 576x576 with 1 Axes>"
            ],
            "image/png": "[encoded data removed]"
          },
          "metadata": {
            "needs_background": "light"
          }
        }
      ]
    },
    {
      "cell_type": "code",
      "source": [
        "# Drop redundant columns \n",
        "df3.drop(columns=['Name', \"Address\", \"Fmel\", \"Inc\"], inplace=True)\n",
        "df3.head()"
      ],
      "metadata": {
        "id": "kxF7m7oULBLR",
        "colab": {
          "base_uri": "https://localhost:8080/",
          "height": 206
        },
        "outputId": "c19cee53-364e-4b66-a0ea-a74b36ba3f51"
      },
      "execution_count": null,
      "outputs": [
        {
          "output_type": "execute_result",
          "data": {
            "text/plain": [
              "             Y            X        Type  Postal Operator   Longitude  \\\n",
              "0  36922.92412  18450.95232   Community    9959       M1  103.747514   \n",
              "1  45530.46595  28308.65184   Community    8019       M1  103.836092   \n",
              "2  31394.65632  30187.62071  Government    7962       M1  103.852975   \n",
              "3  29861.29437  29464.67939   Community    8284       M1  103.846479   \n",
              "4  42345.17715  34269.36498         F&B     338       M1  103.889654   \n",
              "\n",
              "   Latitude Sector  \n",
              "0  1.350191     65  \n",
              "1  1.428036     76  \n",
              "2  1.300197     18  \n",
              "3  1.286329     05  \n",
              "4  1.399229     54  "
            ],
            "text/html": [
              "\n",
              "  <div id=\"df-066ac4f7-4a5b-40ec-acf0-17c13871a1f8\">\n",
              "    <div class=\"colab-df-container\">\n",
              "      <div>\n",
              "<style scoped>\n",
              "    .dataframe tbody tr th:only-of-type {\n",
              "        vertical-align: middle;\n",
              "    }\n",
              "\n",
              "    .dataframe tbody tr th {\n",
              "        vertical-align: top;\n",
              "    }\n",
              "\n",
              "    .dataframe thead th {\n",
              "        text-align: right;\n",
              "    }\n",
              "</style>\n",
              "<table border=\"1\" class=\"dataframe\">\n",
              "  <thead>\n",
              "    <tr style=\"text-align: right;\">\n",
              "      <th></th>\n",
              "      <th>Y</th>\n",
              "      <th>X</th>\n",
              "      <th>Type</th>\n",
              "      <th>Postal</th>\n",
              "      <th>Operator</th>\n",
              "      <th>Longitude</th>\n",
              "      <th>Latitude</th>\n",
              "      <th>Sector</th>\n",
              "    </tr>\n",
              "  </thead>\n",
              "  <tbody>\n",
              "    <tr>\n",
              "      <th>0</th>\n",
              "      <td>36922.92412</td>\n",
              "      <td>18450.95232</td>\n",
              "      <td>Community</td>\n",
              "      <td>9959</td>\n",
              "      <td>M1</td>\n",
              "      <td>103.747514</td>\n",
              "      <td>1.350191</td>\n",
              "      <td>65</td>\n",
              "    </tr>\n",
              "    <tr>\n",
              "      <th>1</th>\n",
              "      <td>45530.46595</td>\n",
              "      <td>28308.65184</td>\n",
              "      <td>Community</td>\n",
              "      <td>8019</td>\n",
              "      <td>M1</td>\n",
              "      <td>103.836092</td>\n",
              "      <td>1.428036</td>\n",
              "      <td>76</td>\n",
              "    </tr>\n",
              "    <tr>\n",
              "      <th>2</th>\n",
              "      <td>31394.65632</td>\n",
              "      <td>30187.62071</td>\n",
              "      <td>Government</td>\n",
              "      <td>7962</td>\n",
              "      <td>M1</td>\n",
              "      <td>103.852975</td>\n",
              "      <td>1.300197</td>\n",
              "      <td>18</td>\n",
              "    </tr>\n",
              "    <tr>\n",
              "      <th>3</th>\n",
              "      <td>29861.29437</td>\n",
              "      <td>29464.67939</td>\n",
              "      <td>Community</td>\n",
              "      <td>8284</td>\n",
              "      <td>M1</td>\n",
              "      <td>103.846479</td>\n",
              "      <td>1.286329</td>\n",
              "      <td>05</td>\n",
              "    </tr>\n",
              "    <tr>\n",
              "      <th>4</th>\n",
              "      <td>42345.17715</td>\n",
              "      <td>34269.36498</td>\n",
              "      <td>F&amp;B</td>\n",
              "      <td>338</td>\n",
              "      <td>M1</td>\n",
              "      <td>103.889654</td>\n",
              "      <td>1.399229</td>\n",
              "      <td>54</td>\n",
              "    </tr>\n",
              "  </tbody>\n",
              "</table>\n",
              "</div>\n",
              "      <button class=\"colab-df-convert\" onclick=\"convertToInteractive('df-066ac4f7-4a5b-40ec-acf0-17c13871a1f8')\"\n",
              "              title=\"Convert this dataframe to an interactive table.\"\n",
              "              style=\"display:none;\">\n",
              "        \n",
              "  <svg xmlns=\"http://www.w3.org/2000/svg\" height=\"24px\"viewBox=\"0 0 24 24\"\n",
              "       width=\"24px\">\n",
              "    <path d=\"M0 0h24v24H0V0z\" fill=\"none\"/>\n",
              "    <path d=\"M18.56 5.44l.94 2.06.94-2.06 2.06-.94-2.06-.94-.94-2.06-.94 2.06-2.06.94zm-11 1L8.5 8.5l.94-2.06 2.06-.94-2.06-.94L8.5 2.5l-.94 2.06-2.06.94zm10 10l.94 2.06.94-2.06 2.06-.94-2.06-.94-.94-2.06-.94 2.06-2.06.94z\"/><path d=\"M17.41 7.96l-1.37-1.37c-.4-.4-.92-.59-1.43-.59-.52 0-1.04.2-1.43.59L10.3 9.45l-7.72 7.72c-.78.78-.78 2.05 0 2.83L4 21.41c.39.39.9.59 1.41.59.51 0 1.02-.2 1.41-.59l7.78-7.78 2.81-2.81c.8-.78.8-2.07 0-2.86zM5.41 20L4 18.59l7.72-7.72 1.47 1.35L5.41 20z\"/>\n",
              "  </svg>\n",
              "      </button>\n",
              "      \n",
              "  <style>\n",
              "    .colab-df-container {\n",
              "      display:flex;\n",
              "      flex-wrap:wrap;\n",
              "      gap: 12px;\n",
              "    }\n",
              "\n",
              "    .colab-df-convert {\n",
              "      background-color: #E8F0FE;\n",
              "      border: none;\n",
              "      border-radius: 50%;\n",
              "      cursor: pointer;\n",
              "      display: none;\n",
              "      fill: #1967D2;\n",
              "      height: 32px;\n",
              "      padding: 0 0 0 0;\n",
              "      width: 32px;\n",
              "    }\n",
              "\n",
              "    .colab-df-convert:hover {\n",
              "      background-color: #E2EBFA;\n",
              "      box-shadow: 0px 1px 2px rgba(60, 64, 67, 0.3), 0px 1px 3px 1px rgba(60, 64, 67, 0.15);\n",
              "      fill: #174EA6;\n",
              "    }\n",
              "\n",
              "    [theme=dark] .colab-df-convert {\n",
              "      background-color: #3B4455;\n",
              "      fill: #D2E3FC;\n",
              "    }\n",
              "\n",
              "    [theme=dark] .colab-df-convert:hover {\n",
              "      background-color: #434B5C;\n",
              "      box-shadow: 0px 1px 3px 1px rgba(0, 0, 0, 0.15);\n",
              "      filter: drop-shadow(0px 1px 2px rgba(0, 0, 0, 0.3));\n",
              "      fill: #FFFFFF;\n",
              "    }\n",
              "  </style>\n",
              "\n",
              "      <script>\n",
              "        const buttonEl =\n",
              "          document.querySelector('#df-066ac4f7-4a5b-40ec-acf0-17c13871a1f8 button.colab-df-convert');\n",
              "        buttonEl.style.display =\n",
              "          google.colab.kernel.accessAllowed ? 'block' : 'none';\n",
              "\n",
              "        async function convertToInteractive(key) {\n",
              "          const element = document.querySelector('#df-066ac4f7-4a5b-40ec-acf0-17c13871a1f8');\n",
              "          const dataTable =\n",
              "            await google.colab.kernel.invokeFunction('convertToInteractive',\n",
              "                                                     [key], {});\n",
              "          if (!dataTable) return;\n",
              "\n",
              "          const docLinkHtml = 'Like what you see? Visit the ' +\n",
              "            '<a target=\"_blank\" href=https://colab.research.google.com/notebooks/data_table.ipynb>data table notebook</a>'\n",
              "            + ' to learn more about interactive tables.';\n",
              "          element.innerHTML = '';\n",
              "          dataTable['output_type'] = 'display_data';\n",
              "          await google.colab.output.renderOutput(dataTable, element);\n",
              "          const docLink = document.createElement('div');\n",
              "          docLink.innerHTML = docLinkHtml;\n",
              "          element.appendChild(docLink);\n",
              "        }\n",
              "      </script>\n",
              "    </div>\n",
              "  </div>\n",
              "  "
            ]
          },
          "metadata": {},
          "execution_count": 23
        }
      ]
    },
    {
      "cell_type": "code",
      "source": [
        "# Find out the 3 rarest location types\n",
        "fig, ax = plt.subplots(figsize=(12, 12))\n",
        "df3['Type'].value_counts(sort=True).plot.bar(title='Location Types')"
      ],
      "metadata": {
        "colab": {
          "base_uri": "https://localhost:8080/",
          "height": 842
        },
        "id": "0t9wcNio_kMH",
        "outputId": "2727eef9-3c67-4925-8ca1-cad804664237"
      },
      "execution_count": null,
      "outputs": [
        {
          "output_type": "execute_result",
          "data": {
            "text/plain": [
              "<matplotlib.axes._subplots.AxesSubplot at 0x7f36730ab550>"
            ]
          },
          "metadata": {},
          "execution_count": 24
        },
        {
          "output_type": "display_data",
          "data": {
            "text/plain": [
              "<Figure size 864x864 with 1 Axes>"
            ],
            "image/png": "[encoded data removed]"
          },
          "metadata": {
            "needs_background": "light"
          }
        }
      ]
    },
    {
      "cell_type": "code",
      "source": [
        "# Replace the 3 rarest categories with Others\n",
        "df3['Type'] = df3['Type'].replace(list(df3['Type'].value_counts(sort=True)[-3:].index), \"Others\")\n",
        "df3.head()"
      ],
      "metadata": {
        "colab": {
          "base_uri": "https://localhost:8080/",
          "height": 206
        },
        "id": "h68s8RvBURWK",
        "outputId": "cbaadf12-5ed5-41df-a35f-5dc1bdbccbd5"
      },
      "execution_count": null,
      "outputs": [
        {
          "output_type": "execute_result",
          "data": {
            "text/plain": [
              "             Y            X        Type  Postal Operator   Longitude  \\\n",
              "0  36922.92412  18450.95232   Community    9959       M1  103.747514   \n",
              "1  45530.46595  28308.65184   Community    8019       M1  103.836092   \n",
              "2  31394.65632  30187.62071  Government    7962       M1  103.852975   \n",
              "3  29861.29437  29464.67939   Community    8284       M1  103.846479   \n",
              "4  42345.17715  34269.36498         F&B     338       M1  103.889654   \n",
              "\n",
              "   Latitude Sector  \n",
              "0  1.350191     65  \n",
              "1  1.428036     76  \n",
              "2  1.300197     18  \n",
              "3  1.286329     05  \n",
              "4  1.399229     54  "
            ],
            "text/html": [
              "\n",
              "  <div id=\"df-b76dfc6b-7fb5-4280-8e47-4816097f9a0c\">\n",
              "    <div class=\"colab-df-container\">\n",
              "      <div>\n",
              "<style scoped>\n",
              "    .dataframe tbody tr th:only-of-type {\n",
              "        vertical-align: middle;\n",
              "    }\n",
              "\n",
              "    .dataframe tbody tr th {\n",
              "        vertical-align: top;\n",
              "    }\n",
              "\n",
              "    .dataframe thead th {\n",
              "        text-align: right;\n",
              "    }\n",
              "</style>\n",
              "<table border=\"1\" class=\"dataframe\">\n",
              "  <thead>\n",
              "    <tr style=\"text-align: right;\">\n",
              "      <th></th>\n",
              "      <th>Y</th>\n",
              "      <th>X</th>\n",
              "      <th>Type</th>\n",
              "      <th>Postal</th>\n",
              "      <th>Operator</th>\n",
              "      <th>Longitude</th>\n",
              "      <th>Latitude</th>\n",
              "      <th>Sector</th>\n",
              "    </tr>\n",
              "  </thead>\n",
              "  <tbody>\n",
              "    <tr>\n",
              "      <th>0</th>\n",
              "      <td>36922.92412</td>\n",
              "      <td>18450.95232</td>\n",
              "      <td>Community</td>\n",
              "      <td>9959</td>\n",
              "      <td>M1</td>\n",
              "      <td>103.747514</td>\n",
              "      <td>1.350191</td>\n",
              "      <td>65</td>\n",
              "    </tr>\n",
              "    <tr>\n",
              "      <th>1</th>\n",
              "      <td>45530.46595</td>\n",
              "      <td>28308.65184</td>\n",
              "      <td>Community</td>\n",
              "      <td>8019</td>\n",
              "      <td>M1</td>\n",
              "      <td>103.836092</td>\n",
              "      <td>1.428036</td>\n",
              "      <td>76</td>\n",
              "    </tr>\n",
              "    <tr>\n",
              "      <th>2</th>\n",
              "      <td>31394.65632</td>\n",
              "      <td>30187.62071</td>\n",
              "      <td>Government</td>\n",
              "      <td>7962</td>\n",
              "      <td>M1</td>\n",
              "      <td>103.852975</td>\n",
              "      <td>1.300197</td>\n",
              "      <td>18</td>\n",
              "    </tr>\n",
              "    <tr>\n",
              "      <th>3</th>\n",
              "      <td>29861.29437</td>\n",
              "      <td>29464.67939</td>\n",
              "      <td>Community</td>\n",
              "      <td>8284</td>\n",
              "      <td>M1</td>\n",
              "      <td>103.846479</td>\n",
              "      <td>1.286329</td>\n",
              "      <td>05</td>\n",
              "    </tr>\n",
              "    <tr>\n",
              "      <th>4</th>\n",
              "      <td>42345.17715</td>\n",
              "      <td>34269.36498</td>\n",
              "      <td>F&amp;B</td>\n",
              "      <td>338</td>\n",
              "      <td>M1</td>\n",
              "      <td>103.889654</td>\n",
              "      <td>1.399229</td>\n",
              "      <td>54</td>\n",
              "    </tr>\n",
              "  </tbody>\n",
              "</table>\n",
              "</div>\n",
              "      <button class=\"colab-df-convert\" onclick=\"convertToInteractive('df-b76dfc6b-7fb5-4280-8e47-4816097f9a0c')\"\n",
              "              title=\"Convert this dataframe to an interactive table.\"\n",
              "              style=\"display:none;\">\n",
              "        \n",
              "  <svg xmlns=\"http://www.w3.org/2000/svg\" height=\"24px\"viewBox=\"0 0 24 24\"\n",
              "       width=\"24px\">\n",
              "    <path d=\"M0 0h24v24H0V0z\" fill=\"none\"/>\n",
              "    <path d=\"M18.56 5.44l.94 2.06.94-2.06 2.06-.94-2.06-.94-.94-2.06-.94 2.06-2.06.94zm-11 1L8.5 8.5l.94-2.06 2.06-.94-2.06-.94L8.5 2.5l-.94 2.06-2.06.94zm10 10l.94 2.06.94-2.06 2.06-.94-2.06-.94-.94-2.06-.94 2.06-2.06.94z\"/><path d=\"M17.41 7.96l-1.37-1.37c-.4-.4-.92-.59-1.43-.59-.52 0-1.04.2-1.43.59L10.3 9.45l-7.72 7.72c-.78.78-.78 2.05 0 2.83L4 21.41c.39.39.9.59 1.41.59.51 0 1.02-.2 1.41-.59l7.78-7.78 2.81-2.81c.8-.78.8-2.07 0-2.86zM5.41 20L4 18.59l7.72-7.72 1.47 1.35L5.41 20z\"/>\n",
              "  </svg>\n",
              "      </button>\n",
              "      \n",
              "  <style>\n",
              "    .colab-df-container {\n",
              "      display:flex;\n",
              "      flex-wrap:wrap;\n",
              "      gap: 12px;\n",
              "    }\n",
              "\n",
              "    .colab-df-convert {\n",
              "      background-color: #E8F0FE;\n",
              "      border: none;\n",
              "      border-radius: 50%;\n",
              "      cursor: pointer;\n",
              "      display: none;\n",
              "      fill: #1967D2;\n",
              "      height: 32px;\n",
              "      padding: 0 0 0 0;\n",
              "      width: 32px;\n",
              "    }\n",
              "\n",
              "    .colab-df-convert:hover {\n",
              "      background-color: #E2EBFA;\n",
              "      box-shadow: 0px 1px 2px rgba(60, 64, 67, 0.3), 0px 1px 3px 1px rgba(60, 64, 67, 0.15);\n",
              "      fill: #174EA6;\n",
              "    }\n",
              "\n",
              "    [theme=dark] .colab-df-convert {\n",
              "      background-color: #3B4455;\n",
              "      fill: #D2E3FC;\n",
              "    }\n",
              "\n",
              "    [theme=dark] .colab-df-convert:hover {\n",
              "      background-color: #434B5C;\n",
              "      box-shadow: 0px 1px 3px 1px rgba(0, 0, 0, 0.15);\n",
              "      filter: drop-shadow(0px 1px 2px rgba(0, 0, 0, 0.3));\n",
              "      fill: #FFFFFF;\n",
              "    }\n",
              "  </style>\n",
              "\n",
              "      <script>\n",
              "        const buttonEl =\n",
              "          document.querySelector('#df-b76dfc6b-7fb5-4280-8e47-4816097f9a0c button.colab-df-convert');\n",
              "        buttonEl.style.display =\n",
              "          google.colab.kernel.accessAllowed ? 'block' : 'none';\n",
              "\n",
              "        async function convertToInteractive(key) {\n",
              "          const element = document.querySelector('#df-b76dfc6b-7fb5-4280-8e47-4816097f9a0c');\n",
              "          const dataTable =\n",
              "            await google.colab.kernel.invokeFunction('convertToInteractive',\n",
              "                                                     [key], {});\n",
              "          if (!dataTable) return;\n",
              "\n",
              "          const docLinkHtml = 'Like what you see? Visit the ' +\n",
              "            '<a target=\"_blank\" href=https://colab.research.google.com/notebooks/data_table.ipynb>data table notebook</a>'\n",
              "            + ' to learn more about interactive tables.';\n",
              "          element.innerHTML = '';\n",
              "          dataTable['output_type'] = 'display_data';\n",
              "          await google.colab.output.renderOutput(dataTable, element);\n",
              "          const docLink = document.createElement('div');\n",
              "          docLink.innerHTML = docLinkHtml;\n",
              "          element.appendChild(docLink);\n",
              "        }\n",
              "      </script>\n",
              "    </div>\n",
              "  </div>\n",
              "  "
            ]
          },
          "metadata": {},
          "execution_count": 25
        }
      ]
    },
    {
      "cell_type": "code",
      "source": [
        "# Label encode the categorical variables for easy comprehension (can be used for XGBoost)\n",
        "for i in df3.columns:\n",
        "    if df3[i].dtype == \"object\":\n",
        "        le = LabelEncoder()\n",
        "        le.fit(df3[i])\n",
        "        df3[i] = le.transform(df3[i])"
      ],
      "metadata": {
        "id": "RQpH1N7LdzZD"
      },
      "execution_count": null,
      "outputs": []
    },
    {
      "cell_type": "code",
      "source": [
        "# Prepare data for training\n",
        "y = df3[\"Type\"]\n",
        "y.astype(\"category\")\n",
        "\n",
        "X = df3.drop(columns=['Type'])\n",
        "# Dropped as it does not seemed useful\n",
        "X = X.drop(columns=['Postal'])\n",
        "X = X.drop(columns=['Sector'])\n",
        "X[\"Operator\"].astype(\"category\")"
      ],
      "metadata": {
        "id": "9_WbpKpJgMkx",
        "colab": {
          "base_uri": "https://localhost:8080/"
        },
        "outputId": "4a30fc50-bc7f-4381-b1fb-f63920ec8705"
      },
      "execution_count": null,
      "outputs": [
        {
          "output_type": "execute_result",
          "data": {
            "text/plain": [
              "0       0\n",
              "1       0\n",
              "2       0\n",
              "3       0\n",
              "4       0\n",
              "       ..\n",
              "1793    2\n",
              "1794    2\n",
              "1795    2\n",
              "1796    2\n",
              "1797    2\n",
              "Name: Operator, Length: 1798, dtype: category\n",
              "Categories (4, int64): [0, 1, 2, 3]"
            ]
          },
          "metadata": {},
          "execution_count": 27
        }
      ]
    },
    {
      "cell_type": "code",
      "source": [
        "# Form train, val and test dataset\n",
        "X_train, y_train = X.iloc[:-200, :], y[:-200]\n",
        "X_train, X_val, y_train, y_val = train_test_split(X_train, y_train, test_size=0.2, random_state=1, shuffle=True)\n",
        "X_test, y_test = X.iloc[-200:, :], y[-200:]"
      ],
      "metadata": {
        "id": "XTfH1g3YWthp"
      },
      "execution_count": null,
      "outputs": []
    },
    {
      "cell_type": "code",
      "source": [
        "best_hyperparams"
      ],
      "metadata": {
        "colab": {
          "base_uri": "https://localhost:8080/"
        },
        "id": "w8ZwcVCye6mY",
        "outputId": "78ebf095-1421-40f7-9c4d-c82e437ce2ab"
      },
      "execution_count": null,
      "outputs": [
        {
          "output_type": "execute_result",
          "data": {
            "text/plain": [
              "{'colsample_bytree': 0.7012312277016307,\n",
              " 'gamma': 0.06281194578469285,\n",
              " 'max_depth': 4.0,\n",
              " 'min_child_weight': 0.0}"
            ]
          },
          "metadata": {},
          "execution_count": 39
        }
      ]
    },
    {
      "cell_type": "code",
      "source": [
        "# Model Training\n",
        "clf = xgb.XGBClassifier(tree_method=\"gpu_hist\", enable_categorical=True, use_label_encoder=False,\n",
        "                        colsample_bytree=0.7012, gamma=0.0628, max_depth=4, min_child_weight=0)\n",
        "clf.fit(X_train, y_train)"
      ],
      "metadata": {
        "id": "fT4vT_P0ckYL",
        "colab": {
          "base_uri": "https://localhost:8080/"
        },
        "outputId": "a645832d-3fc8-4b97-ab7a-3926a60e7ca5"
      },
      "execution_count": null,
      "outputs": [
        {
          "output_type": "execute_result",
          "data": {
            "text/plain": [
              "XGBClassifier(base_score=0.5, booster='gbtree', callbacks=None,\n",
              "              colsample_bylevel=1, colsample_bynode=1, colsample_bytree=0.7012,\n",
              "              early_stopping_rounds=None, enable_categorical=True,\n",
              "              eval_metric=None, gamma=0.0628, gpu_id=0, grow_policy='depthwise',\n",
              "              importance_type=None, interaction_constraints='',\n",
              "              learning_rate=0.300000012, max_bin=256, max_cat_to_onehot=4,\n",
              "              max_delta_step=0, max_depth=4, max_leaves=0, min_child_weight=0,\n",
              "              missing=nan, monotone_constraints='()', n_estimators=100,\n",
              "              n_jobs=0, num_parallel_tree=1, objective='multi:softprob',\n",
              "              predictor='auto', random_state=0, reg_alpha=0, ...)"
            ]
          },
          "metadata": {},
          "execution_count": 41
        }
      ]
    },
    {
      "cell_type": "code",
      "source": [
        "# Validation\n",
        "y_pred = clf.predict(X_val)\n",
        "print(confusion_matrix(y_val, y_pred))\n",
        "print(accuracy_score(y_val, y_pred))\n",
        "print(f1_score(y_val, y_pred, average=\"weighted\"))"
      ],
      "metadata": {
        "colab": {
          "base_uri": "https://localhost:8080/"
        },
        "id": "6REIxEfJYBzN",
        "outputId": "63087010-8478-43cd-bfad-de34c582aa5d"
      },
      "execution_count": null,
      "outputs": [
        {
          "output_type": "stream",
          "name": "stdout",
          "text": [
            "[[12  2  3  0  0  0  0  0  0  0  0]\n",
            " [ 0 94  9  0  6  1  0  0  0  0  6]\n",
            " [ 1 26 30  0  1  0  1  0  0  2  0]\n",
            " [ 1  5  1  0  0  0  1  0  0  0  0]\n",
            " [ 0 15  4  0 56  0  0  0  0  0  0]\n",
            " [ 1  1  0  0  0  0  0  0  0  0  0]\n",
            " [ 0  0  3  0  0  0  3  0  0  0  0]\n",
            " [ 0  5  0  0  0  0  0  0  0  0  0]\n",
            " [ 0  0  0  0  0  0  0  0  3  0  0]\n",
            " [ 0  1  0  0  0  0  0  0  0  1  0]\n",
            " [ 0 20  1  0  2  0  0  0  0  0  2]]\n",
            "0.628125\n",
            "0.6001590624287994\n"
          ]
        }
      ]
    },
    {
      "cell_type": "code",
      "source": [
        "# Testing on held-out dataset\n",
        "y_pred = clf.predict(X_test)\n",
        "print(confusion_matrix(y_test, y_pred))\n",
        "print(accuracy_score(y_test, y_pred))\n",
        "print(f1_score(y_test, y_pred, average=\"weighted\"))\n",
        "\n",
        "# Weighted F1 Score is used due to class imbalance in the hold-out set. \n",
        "# This penalizes the model from predicting just the majority class by weighting by number of samples in each class."
      ],
      "metadata": {
        "colab": {
          "base_uri": "https://localhost:8080/"
        },
        "id": "Tg7_EuV-nzTG",
        "outputId": "00b5c061-95bc-4e3d-de8b-0a71d174b29e"
      },
      "execution_count": null,
      "outputs": [
        {
          "output_type": "stream",
          "name": "stdout",
          "text": [
            "[[ 1  0  4  1  0  1  0  1  0  0]\n",
            " [ 0  0  2  0  0  0  0  0  0  0]\n",
            " [ 0  0 95  0  0  7  2  0  0  0]\n",
            " [ 0  0  2  0  0  0  0  0  0  0]\n",
            " [ 0  0 52  0  0  0  0  0  0  0]\n",
            " [ 0  0 12  0  0  4  0  0  0  0]\n",
            " [ 0  0  1  0  0  1  1  0  0  0]\n",
            " [ 0  0  0  0  0  0  0  8  0  0]\n",
            " [ 0  0  1  0  0  0  0  0  3  0]\n",
            " [ 0  0  0  0  0  0  0  0  1  0]]\n",
            "0.56\n",
            "0.4505096751344216\n"
          ]
        }
      ]
    },
    {
      "cell_type": "code",
      "source": [
        "# Helps increase the f1 score by a little\n",
        "#!pip install hyperopt\n",
        "from hyperopt import STATUS_OK, Trials, fmin, hp, tpe\n",
        "\n",
        "# Search Space\n",
        "space={'max_depth': hp.quniform(\"max_depth\", 3, 10, 1),\n",
        "        'gamma': hp.uniform ('gamma', 0,9),\n",
        "        'colsample_bytree' : hp.uniform('colsample_bytree', 0.5,1),\n",
        "        'min_child_weight' : hp.quniform('min_child_weight', 0, 10, 1),\n",
        "        'n_estimators': 100,\n",
        "        'seed': 0}\n",
        "        \n",
        "# Objective function to optimize\n",
        "def objective(space):\n",
        "    clf=xgb.XGBClassifier(n_estimators =space['n_estimators'], max_depth = int(space['max_depth']), gamma = space['gamma'],\n",
        "                    min_child_weight=int(space['min_child_weight']), colsample_bytree=int(space['colsample_bytree']))\n",
        "    \n",
        "    clf.fit(X_train, y_train, verbose=False)\n",
        "\n",
        "    y_pred = clf.predict(X_val)\n",
        "    accuracy = f1_score(y_val, y_pred, average=\"weighted\")\n",
        "    print (\"SCORE:\", accuracy)\n",
        "    return {'loss': -accuracy, 'status': STATUS_OK }"
      ],
      "metadata": {
        "id": "IsWPr1OkUvdm"
      },
      "execution_count": null,
      "outputs": []
    },
    {
      "cell_type": "code",
      "source": [
        "# Run hyperparameter tuning\n",
        "trials = Trials()\n",
        "best_hyperparams = fmin(fn = objective, space = space, algo = tpe.suggest, max_evals = 100, trials = trials)"
      ],
      "metadata": {
        "id": "JQYhQV9vU7T7",
        "colab": {
          "base_uri": "https://localhost:8080/"
        },
        "outputId": "ea5cc456-46f0-4fed-c7be-0c465bae9d53"
      },
      "execution_count": null,
      "outputs": [
        {
          "output_type": "stream",
          "name": "stdout",
          "text": [
            "SCORE:\n",
            "0.5593191964285714\n",
            "SCORE:\n",
            "0.5505814513305323\n",
            "SCORE:\n",
            "0.5527190817805357\n",
            "SCORE:\n",
            "0.566340300640655\n",
            "SCORE:\n",
            "0.5488463153666375\n",
            "SCORE:\n",
            "0.558233075157774\n",
            "SCORE:\n",
            "0.5804770233653163\n",
            "SCORE:\n",
            "0.5602743965511974\n",
            "SCORE:\n",
            "0.5553280835766301\n",
            "SCORE:\n",
            "0.594296729325799\n",
            "SCORE:\n",
            "0.5608618843312663\n",
            "SCORE:\n",
            "0.5574078377641858\n",
            "SCORE:\n",
            "0.5652790386465152\n",
            "SCORE:\n",
            "0.5563439841800634\n",
            "SCORE:\n",
            "0.5457548307043265\n",
            "SCORE:\n",
            "0.5505814513305323\n",
            "SCORE:\n",
            "0.5600885427147378\n",
            "SCORE:\n",
            "0.5572098398472055\n",
            "SCORE:\n",
            "0.5505814513305323\n",
            "SCORE:\n",
            "0.5558894348579626\n",
            "SCORE:\n",
            "0.5609789716750562\n",
            "SCORE:\n",
            "0.5633311439894075\n",
            "SCORE:\n",
            "0.5850895304736762\n",
            "SCORE:\n",
            "0.5618675829421533\n",
            "SCORE:\n",
            "0.5874107493952384\n",
            "SCORE:\n",
            "0.5896941424970458\n",
            "SCORE:\n",
            "0.5607287338588129\n",
            "SCORE:\n",
            "0.5937892092210343\n",
            "SCORE:\n",
            "0.5696645415668474\n",
            "SCORE:\n",
            "0.5530764544747501\n",
            "SCORE:\n",
            "0.5683133103856484\n",
            "SCORE:\n",
            "0.5668034024465303\n",
            "SCORE:\n",
            "0.594730906067113\n",
            "SCORE:\n",
            "0.5558465948118366\n",
            "SCORE:\n",
            "0.5628993925414477\n",
            "SCORE:\n",
            "0.5731529474514847\n",
            "SCORE:\n",
            "0.5624450552338321\n",
            "SCORE:\n",
            "0.5875208461617405\n",
            "SCORE:\n",
            "0.5515327924004098\n",
            "SCORE:\n",
            "0.574223700631306\n",
            "SCORE:\n",
            "0.5589719824485686\n",
            "SCORE:\n",
            "0.5627099152724153\n",
            "SCORE:\n",
            "0.602781480755078\n",
            "SCORE:\n",
            "0.5919046616946485\n",
            "SCORE:\n",
            "0.5563439841800634\n",
            "SCORE:\n",
            "0.5683966836748289\n",
            "SCORE:\n",
            "0.5494618475675901\n",
            "SCORE:\n",
            "0.5527357514478541\n",
            "SCORE:\n",
            "0.5538910163526246\n",
            "SCORE:\n",
            "0.5693625101750102\n",
            "SCORE:\n",
            "0.5617187686560612\n",
            "SCORE:\n",
            "0.5625468890386343\n",
            "SCORE:\n",
            "0.5785723067060855\n",
            "SCORE:\n",
            "0.5650343261170166\n",
            "SCORE:\n",
            "0.5584460783149696\n",
            "SCORE:\n",
            "0.5505814513305323\n",
            "SCORE:\n",
            "0.546137800625685\n",
            "SCORE:\n",
            "0.561832894787852\n",
            "SCORE:\n",
            "0.5728744028959547\n",
            "SCORE:\n",
            "0.5540210594151117\n",
            "SCORE:\n",
            "0.562045575157774\n",
            "SCORE:\n",
            "0.5673153113778114\n",
            "SCORE:\n",
            "0.5703506097560975\n",
            "SCORE:\n",
            "0.5904323550793286\n",
            "SCORE:\n",
            "0.5554977964257399\n",
            "SCORE:\n",
            "0.5848799681935271\n",
            "SCORE:\n",
            "0.5714210802023616\n",
            "SCORE:\n",
            "0.5762840950556468\n",
            "SCORE:\n",
            "0.5720549968476816\n",
            "SCORE:\n",
            "0.6098765099835812\n",
            "SCORE:\n",
            "0.601995738836642\n",
            "SCORE:\n",
            "0.5754943983482286\n",
            "SCORE:\n",
            "0.5635221190029971\n",
            "SCORE:\n",
            "0.6231410206184588\n",
            "SCORE:\n",
            "0.6173658643643687\n",
            "SCORE:\n",
            "0.5979648340447972\n",
            "SCORE:\n",
            "0.586063330258193\n",
            "SCORE:\n",
            "0.5856550365627431\n",
            "SCORE:\n",
            "0.579643736520658\n",
            "SCORE:\n",
            "0.5734159173993577\n",
            "SCORE:\n",
            "0.5571986784936733\n",
            "SCORE:\n",
            "0.5757927419457209\n",
            "SCORE:\n",
            "0.5590530762068935\n",
            "SCORE:\n",
            "0.568118917652758\n",
            "SCORE:\n",
            "0.5512307837143363\n",
            "SCORE:\n",
            "0.5648298326236263\n",
            "SCORE:\n",
            "0.5523541958994816\n",
            "SCORE:\n",
            "0.5585549970766268\n",
            "SCORE:\n",
            "0.5490946780230374\n",
            "SCORE:\n",
            "0.5630831643512921\n",
            "SCORE:\n",
            "0.5504104529171477\n",
            "SCORE:\n",
            "0.5628752553134805\n",
            "SCORE:\n",
            "0.5571614583333334\n",
            "SCORE:\n",
            "0.5613025424207653\n",
            "SCORE:\n",
            "0.5635221190029971\n",
            "SCORE:\n",
            "0.5946166888189194\n",
            "SCORE:\n",
            "0.5653064909986071\n",
            "SCORE:\n",
            "0.5644125253500254\n",
            "SCORE:\n",
            "0.5808475731182364\n",
            "SCORE:\n",
            "0.5531761807903635\n",
            "100%|██████████| 100/100 [00:46<00:00,  2.15it/s, best loss: -0.6231410206184588]\n"
          ]
        }
      ]
    },
    {
      "cell_type": "markdown",
      "source": [
        "### Task 4 (Data Visualisation)"
      ],
      "metadata": {
        "id": "heQFrDC_aZW2"
      }
    },
    {
      "cell_type": "code",
      "source": [
        "# Import required packages\n",
        "import pandas as pd\n",
        "import numpy as np\n",
        "import matplotlib.pyplot as plt"
      ],
      "metadata": {
        "id": "0-80I4OVVGD-"
      },
      "execution_count": null,
      "outputs": []
    },
    {
      "cell_type": "code",
      "source": [
        "# Load data given in question\n",
        "col_name = [\"Salary\", \"Count\", \"Group\", \"Industry\", \"Job Nature\"]\n",
        "salary = [3150, 3300, 2650, 2400, 4100, 3400, 2800, 2300, 2900, 3000, 3100, 2600, 2400, 3900, 3150, 2600, 2200, 1900]\n",
        "count = [83, 53, 47, 12, 30, 23, 12, 8, 21, 23, 9, 32, 15, 3, 7, 22, 21, 28]\n",
        "group = [\"X\", \"X\", \"X\", \"X\", \"X\", \"X\", \"X\", \"X\", \"X\", \"Y\", \"Y\", \"Y\", \"Y\", \"Y\", \"Y\", \"Y\", \"Y\", \"Y\"]\n",
        "industry = [\"A\", \"B\", \"C\", \"D\", \"E\", \"F\", \"G\", \"H\", \"Others\", \"A\", \"B\", \"C\", \"D\", \"E\", \"F\", \"G\", \"H\", \"Others\"]\n",
        "nature = [\"Close\", \"Close\", \"Close\", \"Close\", \"Somewhat\", \"Somewhat\", \"Somewhat\", \"Somewhat\", \"Unrelated\", \"Close\", \"Close\", \"Close\", \"Close\", \"Somewhat\", \"Somewhat\", \"Somewhat\", \"Somewhat\", \"Unrelated\"]"
      ],
      "metadata": {
        "id": "khAyLdsfNd8R"
      },
      "execution_count": null,
      "outputs": []
    },
    {
      "cell_type": "code",
      "source": [
        "# Load in dataframe\n",
        "df4 = pd.DataFrame(list(zip(salary, count, group, industry, nature)), columns=col_name)\n",
        "df4.head()"
      ],
      "metadata": {
        "colab": {
          "base_uri": "https://localhost:8080/",
          "height": 206
        },
        "id": "QEfbcqCVyo3K",
        "outputId": "96d4ca50-e469-43f7-bee1-1976082a78bf"
      },
      "execution_count": null,
      "outputs": [
        {
          "output_type": "execute_result",
          "data": {
            "text/plain": [
              "   Salary  Count Group Industry Job Nature\n",
              "0    3150     83     X        A      Close\n",
              "1    3300     53     X        B      Close\n",
              "2    2650     47     X        C      Close\n",
              "3    2400     12     X        D      Close\n",
              "4    4100     30     X        E   Somewhat"
            ],
            "text/html": [
              "\n",
              "  <div id=\"df-1ce40d7a-c290-4b2a-9d14-aae8c1ade10a\">\n",
              "    <div class=\"colab-df-container\">\n",
              "      <div>\n",
              "<style scoped>\n",
              "    .dataframe tbody tr th:only-of-type {\n",
              "        vertical-align: middle;\n",
              "    }\n",
              "\n",
              "    .dataframe tbody tr th {\n",
              "        vertical-align: top;\n",
              "    }\n",
              "\n",
              "    .dataframe thead th {\n",
              "        text-align: right;\n",
              "    }\n",
              "</style>\n",
              "<table border=\"1\" class=\"dataframe\">\n",
              "  <thead>\n",
              "    <tr style=\"text-align: right;\">\n",
              "      <th></th>\n",
              "      <th>Salary</th>\n",
              "      <th>Count</th>\n",
              "      <th>Group</th>\n",
              "      <th>Industry</th>\n",
              "      <th>Job Nature</th>\n",
              "    </tr>\n",
              "  </thead>\n",
              "  <tbody>\n",
              "    <tr>\n",
              "      <th>0</th>\n",
              "      <td>3150</td>\n",
              "      <td>83</td>\n",
              "      <td>X</td>\n",
              "      <td>A</td>\n",
              "      <td>Close</td>\n",
              "    </tr>\n",
              "    <tr>\n",
              "      <th>1</th>\n",
              "      <td>3300</td>\n",
              "      <td>53</td>\n",
              "      <td>X</td>\n",
              "      <td>B</td>\n",
              "      <td>Close</td>\n",
              "    </tr>\n",
              "    <tr>\n",
              "      <th>2</th>\n",
              "      <td>2650</td>\n",
              "      <td>47</td>\n",
              "      <td>X</td>\n",
              "      <td>C</td>\n",
              "      <td>Close</td>\n",
              "    </tr>\n",
              "    <tr>\n",
              "      <th>3</th>\n",
              "      <td>2400</td>\n",
              "      <td>12</td>\n",
              "      <td>X</td>\n",
              "      <td>D</td>\n",
              "      <td>Close</td>\n",
              "    </tr>\n",
              "    <tr>\n",
              "      <th>4</th>\n",
              "      <td>4100</td>\n",
              "      <td>30</td>\n",
              "      <td>X</td>\n",
              "      <td>E</td>\n",
              "      <td>Somewhat</td>\n",
              "    </tr>\n",
              "  </tbody>\n",
              "</table>\n",
              "</div>\n",
              "      <button class=\"colab-df-convert\" onclick=\"convertToInteractive('df-1ce40d7a-c290-4b2a-9d14-aae8c1ade10a')\"\n",
              "              title=\"Convert this dataframe to an interactive table.\"\n",
              "              style=\"display:none;\">\n",
              "        \n",
              "  <svg xmlns=\"http://www.w3.org/2000/svg\" height=\"24px\"viewBox=\"0 0 24 24\"\n",
              "       width=\"24px\">\n",
              "    <path d=\"M0 0h24v24H0V0z\" fill=\"none\"/>\n",
              "    <path d=\"M18.56 5.44l.94 2.06.94-2.06 2.06-.94-2.06-.94-.94-2.06-.94 2.06-2.06.94zm-11 1L8.5 8.5l.94-2.06 2.06-.94-2.06-.94L8.5 2.5l-.94 2.06-2.06.94zm10 10l.94 2.06.94-2.06 2.06-.94-2.06-.94-.94-2.06-.94 2.06-2.06.94z\"/><path d=\"M17.41 7.96l-1.37-1.37c-.4-.4-.92-.59-1.43-.59-.52 0-1.04.2-1.43.59L10.3 9.45l-7.72 7.72c-.78.78-.78 2.05 0 2.83L4 21.41c.39.39.9.59 1.41.59.51 0 1.02-.2 1.41-.59l7.78-7.78 2.81-2.81c.8-.78.8-2.07 0-2.86zM5.41 20L4 18.59l7.72-7.72 1.47 1.35L5.41 20z\"/>\n",
              "  </svg>\n",
              "      </button>\n",
              "      \n",
              "  <style>\n",
              "    .colab-df-container {\n",
              "      display:flex;\n",
              "      flex-wrap:wrap;\n",
              "      gap: 12px;\n",
              "    }\n",
              "\n",
              "    .colab-df-convert {\n",
              "      background-color: #E8F0FE;\n",
              "      border: none;\n",
              "      border-radius: 50%;\n",
              "      cursor: pointer;\n",
              "      display: none;\n",
              "      fill: #1967D2;\n",
              "      height: 32px;\n",
              "      padding: 0 0 0 0;\n",
              "      width: 32px;\n",
              "    }\n",
              "\n",
              "    .colab-df-convert:hover {\n",
              "      background-color: #E2EBFA;\n",
              "      box-shadow: 0px 1px 2px rgba(60, 64, 67, 0.3), 0px 1px 3px 1px rgba(60, 64, 67, 0.15);\n",
              "      fill: #174EA6;\n",
              "    }\n",
              "\n",
              "    [theme=dark] .colab-df-convert {\n",
              "      background-color: #3B4455;\n",
              "      fill: #D2E3FC;\n",
              "    }\n",
              "\n",
              "    [theme=dark] .colab-df-convert:hover {\n",
              "      background-color: #434B5C;\n",
              "      box-shadow: 0px 1px 3px 1px rgba(0, 0, 0, 0.15);\n",
              "      filter: drop-shadow(0px 1px 2px rgba(0, 0, 0, 0.3));\n",
              "      fill: #FFFFFF;\n",
              "    }\n",
              "  </style>\n",
              "\n",
              "      <script>\n",
              "        const buttonEl =\n",
              "          document.querySelector('#df-1ce40d7a-c290-4b2a-9d14-aae8c1ade10a button.colab-df-convert');\n",
              "        buttonEl.style.display =\n",
              "          google.colab.kernel.accessAllowed ? 'block' : 'none';\n",
              "\n",
              "        async function convertToInteractive(key) {\n",
              "          const element = document.querySelector('#df-1ce40d7a-c290-4b2a-9d14-aae8c1ade10a');\n",
              "          const dataTable =\n",
              "            await google.colab.kernel.invokeFunction('convertToInteractive',\n",
              "                                                     [key], {});\n",
              "          if (!dataTable) return;\n",
              "\n",
              "          const docLinkHtml = 'Like what you see? Visit the ' +\n",
              "            '<a target=\"_blank\" href=https://colab.research.google.com/notebooks/data_table.ipynb>data table notebook</a>'\n",
              "            + ' to learn more about interactive tables.';\n",
              "          element.innerHTML = '';\n",
              "          dataTable['output_type'] = 'display_data';\n",
              "          await google.colab.output.renderOutput(dataTable, element);\n",
              "          const docLink = document.createElement('div');\n",
              "          docLink.innerHTML = docLinkHtml;\n",
              "          element.appendChild(docLink);\n",
              "        }\n",
              "      </script>\n",
              "    </div>\n",
              "  </div>\n",
              "  "
            ]
          },
          "metadata": {},
          "execution_count": 6
        }
      ]
    },
    {
      "cell_type": "code",
      "source": [
        "# To answer the main insight: Considerable proportion of students from each group do not go on to work in industries closely related to it.\n",
        "# There are considerably more students from Group X than Group Y in this course of study.\n",
        "# Proportionately more students from Group Y are in jobs unrelated to their course of study.\n",
        "\n",
        "# Sum the number of students in each unique (group, job_nature)\n",
        "group_jn = df4.groupby([\"Group\", \"Job Nature\"]).sum().reset_index()\n",
        "# Sum the number of students in each unique group\n",
        "group = group_jn.groupby([\"Group\"]).sum().reset_index()\n",
        "# Left join percentage to (group, job_nature)\n",
        "percent = group_jn.merge(group, on='Group', how='left')\n",
        "# Find the percentage of each unique (group, job_nature)\n",
        "group_jn[\"Percentage\"] = round(percent[\"Count_x\"] / percent[\"Count_y\"], 3) * 100\n",
        "\n",
        "# Groups in the table\n",
        "x = group_jn.loc[group_jn[\"Job Nature\"] == \"Close\"][\"Group\"]\n",
        "# Number of students in close industry\n",
        "close = np.array(group_jn.loc[group_jn[\"Job Nature\"] == \"Close\"][\"Count\"])\n",
        "# Number of students in somewhat industry\n",
        "somewhat = np.array(group_jn.loc[group_jn[\"Job Nature\"] == \"Somewhat\"][\"Count\"])\n",
        "# Number of students in unrelated industry\n",
        "unrelated = np.array(group_jn.loc[group_jn[\"Job Nature\"] == \"Unrelated\"][\"Count\"])\n",
        "\n",
        "# Percentage of students in close industry\n",
        "percent1 = group_jn.loc[group_jn[\"Job Nature\"] == \"Close\"][\"Percentage\"]\n",
        "# Percentage of students in somewhat industry\n",
        "percent2 = group_jn.loc[group_jn[\"Job Nature\"] == \"Somewhat\"][\"Percentage\"]\n",
        "# Percentage of students in unrelated industry\n",
        "percent3 = group_jn.loc[group_jn[\"Job Nature\"] == \"Unrelated\"][\"Percentage\"]\n",
        "\n",
        "c1, c2 = 0, 0\n",
        "fig, ax = plt.subplots(figsize=(12, 12))\n",
        "\n",
        "# Plot the stacked graphs\n",
        "p1 = plt.bar(x, close, bottom=unrelated+somewhat, color='green', label=\"Close\")\n",
        "for rect, p in zip(p1, percent1):\n",
        "    height1 = rect.get_height()\n",
        "    ax.text(rect.get_x() + rect.get_width()/2, height1/2+somewhat[c1]+unrelated[c1], str(p)+'%', ha='center', va='bottom', fontsize=12, color='black')\n",
        "    c1 += 1\n",
        "p2 = plt.bar(x, somewhat, bottom=unrelated, color='orange', label=\"Somewhat\")\n",
        "for rect, p in zip(p2, percent2):\n",
        "    height2 = rect.get_height()\n",
        "    ax.text(rect.get_x() + rect.get_width()/2, height2/2+unrelated[c2], str(p)+'%', ha='center', va='bottom', fontsize=12, color='black')\n",
        "    c1 += 1\n",
        "p3 = plt.bar(x, unrelated, color='red', label=\"Unrelated\")\n",
        "for rect, p in zip(p3, percent3):\n",
        "    height3 = rect.get_height()\n",
        "    ax.text(rect.get_x() + rect.get_width()/2, height3/2, str(p)+'%', ha='center', va='bottom', fontsize=12, color='black')\n",
        "\n",
        "plt.title('Proportion of Students in X and Y Group in Different Industries', fontsize=16)\n",
        "plt.xlabel('Group')\n",
        "plt.ylabel('Number of Students')\n",
        "plt.legend()"
      ],
      "metadata": {
        "colab": {
          "base_uri": "https://localhost:8080/",
          "height": 749
        },
        "id": "0hheg8_8tELS",
        "outputId": "1a6ac131-602f-47c8-b3c8-0e29f0e0075a"
      },
      "execution_count": null,
      "outputs": [
        {
          "output_type": "execute_result",
          "data": {
            "text/plain": [
              "<matplotlib.legend.Legend at 0x7f1ca7d69390>"
            ]
          },
          "metadata": {},
          "execution_count": 7
        },
        {
          "output_type": "display_data",
          "data": {
            "text/plain": [
              "<Figure size 864x864 with 1 Axes>"
            ],
            "image/png": "[encoded data removed]"
          },
          "metadata": {
            "needs_background": "light"
          }
        }
      ]
    },
    {
      "cell_type": "code",
      "source": [
        "# Distribution of students among various industries is considerably different between the two student groups.\n",
        "width = 0.8\n",
        "fig, ax = plt.subplots(figsize=(12, 12))\n",
        "\n",
        "plt.bar(height=\"Count\", x=\"Industry\", data=df4.loc[df4[\"Group\"]==\"X\"], label=\"X\")\n",
        "# Plot Y to be thinner else it will be covered\n",
        "indices = np.arange(len(df4.loc[df4[\"Group\"]==\"X\"]))\n",
        "plt.bar([i+0.025*width for i in indices], height=\"Count\", data=df4.loc[df4[\"Group\"]==\"Y\"], label=\"Y\", width=0.5*width)\n",
        "\n",
        "# Color background according to closeness of industry to course of study\n",
        "ax.axvspan(-0.5, 3.5, alpha=0.15, facecolor=\"g\")\n",
        "ax.axvspan(3.5, 7.5, alpha=0.15, facecolor=\"orange\")\n",
        "ax.axvspan(7.5, 8.5, alpha=0.15, facecolor=\"r\")\n",
        "\n",
        "plt.title('Industries of Students in X and Y Group', fontsize=16)\n",
        "plt.xlabel('Industries')\n",
        "plt.ylabel('Number of Students')\n",
        "plt.legend()"
      ],
      "metadata": {
        "colab": {
          "base_uri": "https://localhost:8080/",
          "height": 749
        },
        "id": "A3aGLo34tpac",
        "outputId": "66320256-3dcb-42c9-c6b0-e9291e092f3e"
      },
      "execution_count": null,
      "outputs": [
        {
          "output_type": "execute_result",
          "data": {
            "text/plain": [
              "<matplotlib.legend.Legend at 0x7f1ca7cba9d0>"
            ]
          },
          "metadata": {},
          "execution_count": 8
        },
        {
          "output_type": "display_data",
          "data": {
            "text/plain": [
              "<Figure size 864x864 with 1 Axes>"
            ],
            "image/png": "[encoded data removed]"
          },
          "metadata": {
            "needs_background": "light"
          }
        }
      ]
    },
    {
      "cell_type": "code",
      "source": [
        "# Students from Group X tend to command higher salaries, for the same type of job & industry.\n",
        "# The salary differential between the two student groups differs by job nature and industry.\n",
        "width = 0.8\n",
        "fig, ax = plt.subplots(figsize=(12, 12))\n",
        "\n",
        "plt.bar(height=\"Salary\", x=\"Industry\", data=df4.loc[df4[\"Group\"]==\"X\"], label=\"X\")\n",
        "# Plot Y to be thinner else it will be covered\n",
        "indices = np.arange(len(df4.loc[df4[\"Group\"]==\"X\"]))\n",
        "plt.bar([i+0.025*width for i in indices], height=\"Salary\", data=df4.loc[df4[\"Group\"]==\"Y\"], label=\"Y\", width=0.5*width)\n",
        "\n",
        "# Color background according to closeness of industry to course of study\n",
        "ax.axvspan(-0.5, 3.5, alpha=0.15, facecolor=\"g\")\n",
        "ax.axvspan(3.5, 7.5, alpha=0.15, facecolor=\"orange\")\n",
        "ax.axvspan(7.5, 8.5, alpha=0.15, facecolor=\"r\")\n",
        "\n",
        "plt.title('Industries of Students in X and Y Group', fontsize=16)\n",
        "plt.xlabel('Industries')\n",
        "plt.ylabel('Salary')\n",
        "plt.legend()"
      ],
      "metadata": {
        "colab": {
          "base_uri": "https://localhost:8080/",
          "height": 749
        },
        "id": "fnnaJ5Ht5BFf",
        "outputId": "7d4afda3-9ff9-49dc-a66d-4e639096694a"
      },
      "execution_count": null,
      "outputs": [
        {
          "output_type": "execute_result",
          "data": {
            "text/plain": [
              "<matplotlib.legend.Legend at 0x7f1ca77c9ad0>"
            ]
          },
          "metadata": {},
          "execution_count": 9
        },
        {
          "output_type": "display_data",
          "data": {
            "text/plain": [
              "<Figure size 864x864 with 1 Axes>"
            ],
            "image/png": "[encoded data removed]"
          },
          "metadata": {
            "needs_background": "light"
          }
        }
      ]
    }
  ]
}